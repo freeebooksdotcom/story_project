{
 "cells": [
  {
   "cell_type": "code",
   "execution_count": 2,
   "metadata": {
    "id": "t6UwhEDV5nt2"
   },
   "outputs": [],
   "source": [
    "import numpy as np\n",
    "import pandas as pd\n",
    "\n",
    "from sklearn.model_selection import train_test_split\n",
    "from collections import Counter\n",
    "from seaborn import heatmap\n",
    "import seaborn as sns\n",
    "import matplotlib.pyplot as plt\n",
    "import spacy\n",
    "import re\n",
    "\n",
    "pd.set_option('display.max_rows', 500)\n",
    "pd.set_option('display.max_columns', 500)\n",
    "pd.set_option('display.width', 1000)"
   ]
  },
  {
   "cell_type": "code",
   "execution_count": 3,
   "metadata": {
    "id": "9GAS8j4j5rZd"
   },
   "outputs": [],
   "source": [
    "from spacy.tokens import Doc, Token, Span\n",
    "\n",
    "import gensim\n"
   ]
  },
  {
   "cell_type": "markdown",
   "metadata": {},
   "source": [
    "# EDA and spaCy Preprocessing"
   ]
  },
  {
   "cell_type": "markdown",
   "metadata": {},
   "source": [
    "### Some Additional Cleaning Performed during EDA"
   ]
  },
  {
   "cell_type": "code",
   "execution_count": 74,
   "metadata": {
    "id": "q5FTvDmd_V50"
   },
   "outputs": [],
   "source": [
    "df= pd.read_csv('../story_data.csv',index_col='index' )"
   ]
  },
  {
   "cell_type": "code",
   "execution_count": 75,
   "metadata": {
    "id": "eTC_PgsR_vbx"
   },
   "outputs": [],
   "source": [
    "df=df[['story_title', 'story_text', 'book_id', 'book_author', 'book_title']]"
   ]
  },
  {
   "cell_type": "code",
   "execution_count": 76,
   "metadata": {
    "id": "_xm2p4wUDxER"
   },
   "outputs": [],
   "source": [
    "def word_count(string):\n",
    "    return len(string.split(' '))"
   ]
  },
  {
   "cell_type": "code",
   "execution_count": 77,
   "metadata": {
    "id": "m7TLBgp3Uf-w"
   },
   "outputs": [],
   "source": [
    "def flag_acknowledgments(string):\n",
    "  return 'acknowledgment' in string.lower()"
   ]
  },
  {
   "cell_type": "code",
   "execution_count": 78,
   "metadata": {
    "id": "iT-3l8jvWTCQ"
   },
   "outputs": [],
   "source": [
    "def remove_underscores_spaces(story):\n",
    "  split_string=story.split(' ')\n",
    "  return ' '.join([word.replace('_','') for word in split_string if ' ' not in word])"
   ]
  },
  {
   "cell_type": "code",
   "execution_count": 79,
   "metadata": {
    "id": "0wbb-QZFImwm"
   },
   "outputs": [],
   "source": [
    "df['story_text'] = df.story_text.apply(lambda x: remove_underscores_spaces(x))"
   ]
  },
  {
   "cell_type": "code",
   "execution_count": 80,
   "metadata": {
    "id": "wYvwcoOHDxe8"
   },
   "outputs": [],
   "source": [
    "df['word_count']= df.story_text.map(lambda x: word_count(x))"
   ]
  },
  {
   "cell_type": "code",
   "execution_count": 81,
   "metadata": {
    "id": "iHo5VJ_sUqTi"
   },
   "outputs": [],
   "source": [
    "df['flag_acknow']=df.story_title.apply(flag_acknowledgments)"
   ]
  },
  {
   "cell_type": "code",
   "execution_count": 82,
   "metadata": {
    "id": "T5X4vNQQU3GU"
   },
   "outputs": [],
   "source": [
    "df.drop(index=df[df.flag_acknow==True].index, inplace=True)"
   ]
  },
  {
   "cell_type": "code",
   "execution_count": 83,
   "metadata": {
    "id": "Y43IR8hxDx0G"
   },
   "outputs": [],
   "source": [
    "df= df[(df.word_count>50)&(df.word_count<12000)]\n",
    "df.reset_index(inplace=True)"
   ]
  },
  {
   "cell_type": "markdown",
   "metadata": {
    "id": "apL2cPgUWHqh"
   },
   "source": [
    "## Preprocessing with spaCy for EDA"
   ]
  },
  {
   "cell_type": "code",
   "execution_count": 7,
   "metadata": {},
   "outputs": [],
   "source": [
    "df=pd.read_csv('final_stories.csv', index_col=0)"
   ]
  },
  {
   "cell_type": "code",
   "execution_count": 9,
   "metadata": {},
   "outputs": [
    {
     "data": {
      "text/plain": [
       "0        The Orchard'S Grandmother\n",
       "1                            Rough\n",
       "2                 The Music Lesson\n",
       "3                        The Frost\n",
       "4                       My Picture\n",
       "                   ...            \n",
       "21458             Mortuary Customs\n",
       "21459            Bodily Affections\n",
       "21460                      Apparel\n",
       "21461                     The Moon\n",
       "21462          Boston And New York\n",
       "Name: story_title, Length: 21463, dtype: object"
      ]
     },
     "execution_count": 9,
     "metadata": {},
     "output_type": "execute_result"
    }
   ],
   "source": [
    "df.story_title.apply(lambda x: x.replace(\"’S\",\"’s\"))"
   ]
  },
  {
   "cell_type": "code",
   "execution_count": 19,
   "metadata": {
    "id": "FRDvG9O3MRY2"
   },
   "outputs": [],
   "source": [
    "#Code used for a Collab notebook to attempt to process all texts\n",
    "def gpu_nlp_pipe(series_of_texts):\n",
    "  with tf.device('/device:GPU:0'):\n",
    "    docs=list(nlp.pipe(series_of_texts, batch_size=100))\n",
    "    return docs"
   ]
  },
  {
   "cell_type": "code",
   "execution_count": null,
   "metadata": {
    "id": "d7wahqAT8Ngu"
   },
   "outputs": [],
   "source": [
    "token.  "
   ]
  },
  {
   "cell_type": "code",
   "execution_count": 58,
   "metadata": {
    "id": "lG2ockFCV1NX"
   },
   "outputs": [],
   "source": [
    "def check_stop_punct(token):\n",
    "    if token.is_stop or token.is_punct:\n",
    "        return False\n",
    "    else:\n",
    "        return True\n",
    "\n",
    "def clean_doc_lem_stop(document):\n",
    "    no_stop_li = list(filter(check_stop_punct, document))\n",
    "    lemma_li = list(map(lambda x: x.lemma_, no_stop_li))\n",
    "    spaces=[True for word in lemma_li]\n",
    "    doc=Doc(nlp.vocab, words=lemma_li, spaces=spaces)\n",
    "    return doc\n"
   ]
  },
  {
   "cell_type": "code",
   "execution_count": 1,
   "metadata": {
    "colab": {
     "base_uri": "https://localhost:8080/"
    },
    "id": "vI6ZffndYM0S",
    "outputId": "c3c0cece-1b72-4e8b-d344-d10d31b7751c"
   },
   "outputs": [
    {
     "ename": "NameError",
     "evalue": "name 'nlp' is not defined",
     "output_type": "error",
     "traceback": [
      "\u001b[0;31m---------------------------------------------------------------------------\u001b[0m",
      "\u001b[0;31mNameError\u001b[0m                                 Traceback (most recent call last)",
      "\u001b[0;32m<ipython-input-1-d32b0b735941>\u001b[0m in \u001b[0;36m<module>\u001b[0;34m\u001b[0m\n\u001b[0;32m----> 1\u001b[0;31m \u001b[0mnlp\u001b[0m\u001b[0;34m.\u001b[0m\u001b[0madd_pipe\u001b[0m\u001b[0;34m(\u001b[0m\u001b[0mclean_doc_lem_stop\u001b[0m\u001b[0;34m,\u001b[0m \u001b[0mfirst\u001b[0m\u001b[0;34m=\u001b[0m\u001b[0;32mTrue\u001b[0m\u001b[0;34m)\u001b[0m\u001b[0;34m\u001b[0m\u001b[0;34m\u001b[0m\u001b[0m\n\u001b[0m\u001b[1;32m      2\u001b[0m \u001b[0mnlp\u001b[0m\u001b[0;34m.\u001b[0m\u001b[0mpipe_names\u001b[0m\u001b[0;34m\u001b[0m\u001b[0;34m\u001b[0m\u001b[0m\n",
      "\u001b[0;31mNameError\u001b[0m: name 'nlp' is not defined"
     ]
    }
   ],
   "source": [
    "nlp.add_pipe(clean_doc_lem_stop, first=True)\n",
    "nlp.pipe_names"
   ]
  },
  {
   "cell_type": "code",
   "execution_count": 65,
   "metadata": {},
   "outputs": [
    {
     "data": {
      "text/plain": [
       "'AN EDITORIAL ARTICLE FROM A JOURNAL. OF MAY 3rd, A.D. 3873.  At the quiet little village of Smithcester (the ancient London) will be celebrated to-day the twentieth, centennial anniversary of this remarkable man, the foremost figure of antiquity. The recurrence of what, no longer than six centuries ago, was a popular fête day, and which even now is seldom allowed to pass without some recognition by those to whom the word liberty means something more precious than gold, is provocative of peculiar emotion. It matters little whether or no tradition has correctly fixed the date of Smith\\'s birth; that he was born--that being born he wrought nobly at the work his hand found to do--that by the mere force of his intellect he established our present perfect form of government, under which civilization has attained its highest and ripest development--these are facts beside which a mere question of chronology sinks into insignificance. That this extraordinary man originated the Smitharchic system of government is, perhaps, open to honest doubt; very possibly it had a de facto existence in various debased and uncertain shapes as early as the sixteenth century. But that he cleared it of its overlying errors and superstitions, gave it a definite form, and shaped it into an intelligible scheme, there is the strongest evidence in the fragments of twentieth-century literature that have descended to us, disfigured though they are with amazingly contradictory statements of his birth, parentage, and manner of life before he strode upon the political stage as the liberator of mankind. It is stated that Snakeshear--one of his contemporaries, a poet whose works had in their day some reputation (though it is difficult to say why)--alludes to him as \"the noblest Roman of them all;\" our ancestors at the time being called Englishmen or Romans, indifferently. In the only fragment of Snakeshear extant, however, we have been unable to find this passage. Smith\\'s military power is amply attested in an ancient manuscript of undoubted authenticity, which has just been translated from the Japanese. It is an account of the water-battle of Loo, by an eyewitness whose name, unfortunately, has not reached us. In this battle it is stated that Smith overthrew the great Neapolitan general, whom he captured and conveyed in chains to the island of Chickenhurst. In his Political History of the Twentieth Century, the late Mimble--or, as he would have been called in the time of which he writes, Mister Mimble--has this luminous sentence: \"With the single exception of Coblentz, there was no European government the Liberator did not upset, and which he did not erect into a pure Smitharchy; and though some of them afterward relapsed temporarily into the crude forms of antiquity, and others fell into fanciful systems begotten of the intellectual activity he had stirred up, yet so firmly did he establish the principle, that in the Thirty-second Century the enlightened world was, what it has since remained, practically Smitharchic.\" It may be noted here as a curious coincidence, that the same year which saw the birth of him who established rational government witnessed the death of him who perfected literature. In 1873, Martin Farquhar Tupper--next to Smith the most notable name in history--died of starvation in the streets of London. Like that of Smith, his origin is wrapped in profoundest obscurity. No less than seven British cities claimed the honour of his birth. Meagre indeed is our knowledge of this only bard whose works have descended to us through the changes of twenty centuries entire. All that is positively established is that during his life he was editor of \"The Times \\'magazine,\\'\" a word of disputed meaning--and, as quaint old Dumbleshaw says, \"an accomplished Greek and Latin scholar,\" whatever \"Greek\" and \"Latin\" may have been. Had Smith and Tupper been contemporaries, the iron deeds of the former would doubtless have been immortalized in the golden pages of the latter. Upon such chances does History depend for her materials! Strangely unimpressible indeed must be the mind which, looking backward through the vista of twenty centuries upon the singular race from whom we are supposed to be descended, can repress a feeling of emotional interest. The names of John Smith and Martin Farquhar Tupper, blazoned upon the page of the dim past, and surrounded by the lesser names of Snakeshear, the first Neapolitan, Oliver Cornwell, Close, \"Queen\" Elizabeth, or Lambeth, the Dutch Bismarch, Julia Cæsar, and a host of contemporary notables are singularly suggestive. They call to mind the odd old custom of covering the body with \"clothes;\" the curious error of Copernicus and other wide guesses of antique \"science;\" the lost arts of telegramy, steam locomotion, and printing with movable types; and the exploded theory of gunpowder. They set us thinking upon the zealous idolatry which led men to make pious pilgrimages to the then accessible regions about the North Pole and into the interior of Africa, which at that time was but little better than a wilderness. They conjure up visions of bloodthirsty \"Emperors,\" tyrannical \"Kings,\" vampire \"Presidents,\" and useless \"Parliaments\"--strangely horrible shapes contrasted with the serene and benevolent aspect of our modern Smithocracy! Let us to-day rejoice that the old order of things has for ever passed away; let us be thankful that our lot has been cast in more wholesome days than those in which John Smith chalked out the better destinies of a savage race, and Tupper sang divine philosophy to inattentive ears. And yet let us keep green the memory of whatever there was of good--if any--in the dark pre-Smithian ages, when men cherished quaint superstitions and rode on the backs of \"horses\"--when they passed over the seas instead of under them--when science had not yet dawned to chase away the shadows of imagination--and when the cabalistic letters A.D., which from habit we still affix to the numerals designating the age of the world, had perhaps a known signification.     *    *    *    *    *'"
      ]
     },
     "execution_count": 65,
     "metadata": {},
     "output_type": "execute_result"
    }
   ],
   "source": [
    "mini_df.loc[13684, 'story_text']"
   ]
  },
  {
   "cell_type": "code",
   "execution_count": 90,
   "metadata": {
    "id": "k2VXIfuE8Tan"
   },
   "outputs": [
    {
     "data": {
      "text/html": [
       "<div>\n",
       "<style scoped>\n",
       "    .dataframe tbody tr th:only-of-type {\n",
       "        vertical-align: middle;\n",
       "    }\n",
       "\n",
       "    .dataframe tbody tr th {\n",
       "        vertical-align: top;\n",
       "    }\n",
       "\n",
       "    .dataframe thead th {\n",
       "        text-align: right;\n",
       "    }\n",
       "</style>\n",
       "<table border=\"1\" class=\"dataframe\">\n",
       "  <thead>\n",
       "    <tr style=\"text-align: right;\">\n",
       "      <th></th>\n",
       "      <th>story_title</th>\n",
       "      <th>story_text</th>\n",
       "      <th>book_id</th>\n",
       "      <th>book_author</th>\n",
       "      <th>book_title</th>\n",
       "      <th>word_count</th>\n",
       "    </tr>\n",
       "  </thead>\n",
       "  <tbody>\n",
       "    <tr>\n",
       "      <th>9802</th>\n",
       "      <td>Whittier, John Greenleaf</td>\n",
       "      <td>Biography: VII, 381.   Selections: Barbara Fri...</td>\n",
       "      <td>24857</td>\n",
       "      <td>Sylvester, Charles Herbert</td>\n",
       "      <td>Journeys Through Bookland, Vol. 10: The Guide</td>\n",
       "      <td>76</td>\n",
       "    </tr>\n",
       "    <tr>\n",
       "      <th>12829</th>\n",
       "      <td>The Stone Blocks</td>\n",
       "      <td>\"Why is your little sister crying, dear?\" aske...</td>\n",
       "      <td>19892</td>\n",
       "      <td>Richards, Laura Elizabeth Howe</td>\n",
       "      <td>The Silver Crown: Another Book of Fables</td>\n",
       "      <td>206</td>\n",
       "    </tr>\n",
       "    <tr>\n",
       "      <th>16036</th>\n",
       "      <td>After A Fairy Tale By Hans Andersen</td>\n",
       "      <td>THERE was no more beautiful thing in the world...</td>\n",
       "      <td>45907</td>\n",
       "      <td>Dulac, Edmund</td>\n",
       "      <td>Edmund Dulac's Picture-Book for the French Red...</td>\n",
       "      <td>4147</td>\n",
       "    </tr>\n",
       "    <tr>\n",
       "      <th>12623</th>\n",
       "      <td>The Ants And The Grasshopper</td>\n",
       "      <td>One bright day in late autumn a family of Ants...</td>\n",
       "      <td>19994</td>\n",
       "      <td>Aesop</td>\n",
       "      <td>The Aesop for Children\\r\\nWith pictures by Mil...</td>\n",
       "      <td>139</td>\n",
       "    </tr>\n",
       "    <tr>\n",
       "      <th>12552</th>\n",
       "      <td>The Butcher And His Customers</td>\n",
       "      <td>Two Men were buying meat at a Butcher's stall ...</td>\n",
       "      <td>11339</td>\n",
       "      <td>Aesop</td>\n",
       "      <td>Aesop's Fables; a new translation</td>\n",
       "      <td>125</td>\n",
       "    </tr>\n",
       "  </tbody>\n",
       "</table>\n",
       "</div>"
      ],
      "text/plain": [
       "                               story_title                                         story_text  book_id                     book_author                                         book_title  word_count\n",
       "9802              Whittier, John Greenleaf  Biography: VII, 381.   Selections: Barbara Fri...    24857      Sylvester, Charles Herbert      Journeys Through Bookland, Vol. 10: The Guide          76\n",
       "12829                     The Stone Blocks  \"Why is your little sister crying, dear?\" aske...    19892  Richards, Laura Elizabeth Howe           The Silver Crown: Another Book of Fables         206\n",
       "16036  After A Fairy Tale By Hans Andersen  THERE was no more beautiful thing in the world...    45907                   Dulac, Edmund  Edmund Dulac's Picture-Book for the French Red...        4147\n",
       "12623         The Ants And The Grasshopper  One bright day in late autumn a family of Ants...    19994                           Aesop  The Aesop for Children\\r\\nWith pictures by Mil...         139\n",
       "12552        The Butcher And His Customers  Two Men were buying meat at a Butcher's stall ...    11339                           Aesop                  Aesop's Fables; a new translation         125"
      ]
     },
     "execution_count": 90,
     "metadata": {},
     "output_type": "execute_result"
    }
   ],
   "source": [
    "mini_df=df.sample(frac=0.2)\n",
    "mini_df.head()"
   ]
  },
  {
   "cell_type": "code",
   "execution_count": 91,
   "metadata": {
    "id": "65nlVVnWYBgj"
   },
   "outputs": [],
   "source": [
    "mini_df['docs']=list(nlp.pipe(mini_df.story_text, batch_size=100))"
   ]
  },
  {
   "cell_type": "code",
   "execution_count": 93,
   "metadata": {},
   "outputs": [],
   "source": [
    "def pull_pos(doc, pos):\n",
    "    return [token for token in doc if token.pos_==pos]"
   ]
  },
  {
   "cell_type": "code",
   "execution_count": 95,
   "metadata": {},
   "outputs": [],
   "source": [
    "mini_df['nouns']=mini_df.docs.apply(lambda x: pull_pos(x, 'NOUN'))\n",
    "mini_df['verbs']=mini_df.docs.apply(lambda x: pull_pos(x,'VERB'))"
   ]
  },
  {
   "cell_type": "code",
   "execution_count": 96,
   "metadata": {
    "id": "jyYOzsJxb3OJ"
   },
   "outputs": [],
   "source": [
    "mini_df.to_csv('../tfidf_data.csv')"
   ]
  },
  {
   "cell_type": "code",
   "execution_count": 16,
   "metadata": {},
   "outputs": [],
   "source": [
    "mini_df=pd.read_csv('../tfidf_data.csv')"
   ]
  },
  {
   "cell_type": "code",
   "execution_count": 17,
   "metadata": {
    "colab": {
     "base_uri": "https://localhost:8080/",
     "height": 510
    },
    "id": "x_wZuKk02nGy",
    "outputId": "04808f80-a19f-4355-b6ef-309d5c20f92a"
   },
   "outputs": [
    {
     "data": {
      "text/html": [
       "<div>\n",
       "<style scoped>\n",
       "    .dataframe tbody tr th:only-of-type {\n",
       "        vertical-align: middle;\n",
       "    }\n",
       "\n",
       "    .dataframe tbody tr th {\n",
       "        vertical-align: top;\n",
       "    }\n",
       "\n",
       "    .dataframe thead th {\n",
       "        text-align: right;\n",
       "    }\n",
       "</style>\n",
       "<table border=\"1\" class=\"dataframe\">\n",
       "  <thead>\n",
       "    <tr style=\"text-align: right;\">\n",
       "      <th></th>\n",
       "      <th>Unnamed: 0</th>\n",
       "      <th>story_title</th>\n",
       "      <th>story_text</th>\n",
       "      <th>book_id</th>\n",
       "      <th>book_author</th>\n",
       "      <th>book_title</th>\n",
       "      <th>word_count</th>\n",
       "      <th>docs</th>\n",
       "      <th>nouns</th>\n",
       "      <th>verbs</th>\n",
       "    </tr>\n",
       "  </thead>\n",
       "  <tbody>\n",
       "    <tr>\n",
       "      <th>0</th>\n",
       "      <td>9802</td>\n",
       "      <td>Whittier, John Greenleaf</td>\n",
       "      <td>Biography: VII, 381.   Selections: Barbara Fri...</td>\n",
       "      <td>24857</td>\n",
       "      <td>Sylvester, Charles Herbert</td>\n",
       "      <td>Journeys Through Bookland, Vol. 10: The Guide</td>\n",
       "      <td>76</td>\n",
       "      <td>Biography VII 381    Selections Barbara Frietc...</td>\n",
       "      <td>[]</td>\n",
       "      <td>[]</td>\n",
       "    </tr>\n",
       "    <tr>\n",
       "      <th>1</th>\n",
       "      <td>12829</td>\n",
       "      <td>The Stone Blocks</td>\n",
       "      <td>\"Why is your little sister crying, dear?\" aske...</td>\n",
       "      <td>19892</td>\n",
       "      <td>Richards, Laura Elizabeth Howe</td>\n",
       "      <td>The Silver Crown: Another Book of Fables</td>\n",
       "      <td>206</td>\n",
       "      <td>little sister cry dear ask Play Angel think ta...</td>\n",
       "      <td>[sister, care, care, child, care, care, Angel,...</td>\n",
       "      <td>[cry, ask, Play, think, take, take, say, cry, ...</td>\n",
       "    </tr>\n",
       "    <tr>\n",
       "      <th>2</th>\n",
       "      <td>16036</td>\n",
       "      <td>After A Fairy Tale By Hans Andersen</td>\n",
       "      <td>THERE was no more beautiful thing in the world...</td>\n",
       "      <td>45907</td>\n",
       "      <td>Dulac, Edmund</td>\n",
       "      <td>Edmund Dulac's Picture-Book for the French Red...</td>\n",
       "      <td>4147</td>\n",
       "      <td>beautiful thing world palace emperor China bui...</td>\n",
       "      <td>[thing, world, palace, emperor, porcelain, egg...</td>\n",
       "      <td>[build, move, break, fear, garden, contain, at...</td>\n",
       "    </tr>\n",
       "    <tr>\n",
       "      <th>3</th>\n",
       "      <td>12623</td>\n",
       "      <td>The Ants And The Grasshopper</td>\n",
       "      <td>One bright day in late autumn a family of Ants...</td>\n",
       "      <td>19994</td>\n",
       "      <td>Aesop</td>\n",
       "      <td>The Aesop for Children\\r\\nWith pictures by Mil...</td>\n",
       "      <td>139</td>\n",
       "      <td>bright day late autumn family Ants bustle warm...</td>\n",
       "      <td>[day, autumn, family, Ants, sunshine, grain, s...</td>\n",
       "      <td>[starve, come, beg, bite, eat, cry, surprise, ...</td>\n",
       "    </tr>\n",
       "    <tr>\n",
       "      <th>4</th>\n",
       "      <td>12552</td>\n",
       "      <td>The Butcher And His Customers</td>\n",
       "      <td>Two Men were buying meat at a Butcher's stall ...</td>\n",
       "      <td>11339</td>\n",
       "      <td>Aesop</td>\n",
       "      <td>Aesop's Fables; a new translation</td>\n",
       "      <td>125</td>\n",
       "      <td>Men buy meat Butcher stall market place Butche...</td>\n",
       "      <td>[Men, meat, Butcher, stall, market, place, But...</td>\n",
       "      <td>[buy, snatch, thrust, see, turn, steal, say, s...</td>\n",
       "    </tr>\n",
       "  </tbody>\n",
       "</table>\n",
       "</div>"
      ],
      "text/plain": [
       "   Unnamed: 0                          story_title                                         story_text  book_id                     book_author                                         book_title  word_count                                               docs                                              nouns                                              verbs\n",
       "0        9802             Whittier, John Greenleaf  Biography: VII, 381.   Selections: Barbara Fri...    24857      Sylvester, Charles Herbert      Journeys Through Bookland, Vol. 10: The Guide          76  Biography VII 381    Selections Barbara Frietc...                                                 []                                                 []\n",
       "1       12829                     The Stone Blocks  \"Why is your little sister crying, dear?\" aske...    19892  Richards, Laura Elizabeth Howe           The Silver Crown: Another Book of Fables         206  little sister cry dear ask Play Angel think ta...  [sister, care, care, child, care, care, Angel,...  [cry, ask, Play, think, take, take, say, cry, ...\n",
       "2       16036  After A Fairy Tale By Hans Andersen  THERE was no more beautiful thing in the world...    45907                   Dulac, Edmund  Edmund Dulac's Picture-Book for the French Red...        4147  beautiful thing world palace emperor China bui...  [thing, world, palace, emperor, porcelain, egg...  [build, move, break, fear, garden, contain, at...\n",
       "3       12623         The Ants And The Grasshopper  One bright day in late autumn a family of Ants...    19994                           Aesop  The Aesop for Children\\r\\nWith pictures by Mil...         139  bright day late autumn family Ants bustle warm...  [day, autumn, family, Ants, sunshine, grain, s...  [starve, come, beg, bite, eat, cry, surprise, ...\n",
       "4       12552        The Butcher And His Customers  Two Men were buying meat at a Butcher's stall ...    11339                           Aesop                  Aesop's Fables; a new translation         125  Men buy meat Butcher stall market place Butche...  [Men, meat, Butcher, stall, market, place, But...  [buy, snatch, thrust, see, turn, steal, say, s..."
      ]
     },
     "execution_count": 17,
     "metadata": {},
     "output_type": "execute_result"
    }
   ],
   "source": [
    "mini_df.head()"
   ]
  },
  {
   "cell_type": "code",
   "execution_count": 95,
   "metadata": {
    "colab": {
     "base_uri": "https://localhost:8080/"
    },
    "id": "4l0lrJQPVusA",
    "outputId": "293a9406-eb4d-4e32-e270-fe53d1f0d6f6"
   },
   "outputs": [
    {
     "data": {
      "text/plain": [
       "New Zealand   time live man name Kahukura even way distant village come lonely spot seashore walk slowly see large pile head tail fish lie beach day man net oblige catch fish spear hook Kahukura see pile astonish luck exclaim hard catch fish head tail thousand look closely footprint sand mortal fish cry Fairies watch night darkness come return spot hide rock wait long time see fleet tiny canoe come spin wave range line distance shore Kahukura little figure bend pull hear small voice shout net net little figure drop overboard begin haul shore singe sweetly canoe draw near land Kahukura see crowd Fairies spring beach begin drag ashore great net fill fish Fairies struggle net Kahukura join haul away rope fair man skin white Fairies notice pull away pull away soon net land Fairies run forward divide catch peep dawn hurry fish carry Fairy string share run twig gill string fish keep call another:-- Hurry hurry finish sun rise Kahukura short string knot end string share fill lift string knot give way fish slide grind Fairies run forward help tie knot fill string fish slide Fairies tie knot day begin break sea sun rise Fairies see Kahukura face know man give little cry terror run way confusion leave fish canoe abandon net shriek vanish sea Kahukura see haste examine canoe stem flax lift net weave rush curiously tie carry home like neighbour teach child weave net Maori folk learn net day catch fish "
      ]
     },
     "execution_count": 95,
     "metadata": {
      "tags": []
     },
     "output_type": "execute_result"
    }
   ],
   "source": [
    "\n",
    "\n",
    "mini_df.loc[18128, 'docs']"
   ]
  },
  {
   "cell_type": "markdown",
   "metadata": {},
   "source": [
    "### Code used to produce visualizations of frequent words"
   ]
  },
  {
   "cell_type": "code",
   "execution_count": 18,
   "metadata": {
    "id": "fPLhkn3HFwLE"
   },
   "outputs": [
    {
     "ename": "AttributeError",
     "evalue": "'str' object has no attribute 'is_stop'",
     "output_type": "error",
     "traceback": [
      "\u001b[0;31m---------------------------------------\u001b[0m",
      "\u001b[0;31mAttributeError\u001b[0mTraceback (most recent call last)",
      "\u001b[0;32m<ipython-input-18-8f3011290b40>\u001b[0m in \u001b[0;36m<module>\u001b[0;34m\u001b[0m\n\u001b[1;32m      1\u001b[0m \u001b[0;31m# all tokens that arent stop words or punctuations\u001b[0m\u001b[0;34m\u001b[0m\u001b[0;34m\u001b[0m\u001b[0;34m\u001b[0m\u001b[0m\n\u001b[0;32m----> 2\u001b[0;31m \u001b[0mword_list\u001b[0m \u001b[0;34m=\u001b[0m \u001b[0;34m[\u001b[0m\u001b[0mtoken\u001b[0m \u001b[0;32mfor\u001b[0m \u001b[0mdoc\u001b[0m \u001b[0;32min\u001b[0m \u001b[0mmini_df\u001b[0m\u001b[0;34m.\u001b[0m\u001b[0mdocs\u001b[0m \u001b[0;32mfor\u001b[0m \u001b[0mtoken\u001b[0m \u001b[0;32min\u001b[0m \u001b[0mdoc\u001b[0m \u001b[0;32mif\u001b[0m \u001b[0mtoken\u001b[0m\u001b[0;34m.\u001b[0m\u001b[0mis_stop\u001b[0m \u001b[0;34m!=\u001b[0m \u001b[0;32mTrue\u001b[0m \u001b[0;32mand\u001b[0m \u001b[0mtoken\u001b[0m\u001b[0;34m.\u001b[0m\u001b[0mis_punct\u001b[0m \u001b[0;34m!=\u001b[0m \u001b[0;32mTrue\u001b[0m\u001b[0;34m]\u001b[0m\u001b[0;34m\u001b[0m\u001b[0;34m\u001b[0m\u001b[0m\n\u001b[0m\u001b[1;32m      3\u001b[0m \u001b[0;34m\u001b[0m\u001b[0m\n\u001b[1;32m      4\u001b[0m \u001b[0;31m# noun tokens that arent stop words or punctuations\u001b[0m\u001b[0;34m\u001b[0m\u001b[0;34m\u001b[0m\u001b[0;34m\u001b[0m\u001b[0m\n\u001b[1;32m      5\u001b[0m \u001b[0mnoun_list\u001b[0m \u001b[0;34m=\u001b[0m \u001b[0;34m[\u001b[0m\u001b[0mtoken\u001b[0m \u001b[0;32mfor\u001b[0m \u001b[0mdoc\u001b[0m \u001b[0;32min\u001b[0m \u001b[0mmini_df\u001b[0m\u001b[0;34m.\u001b[0m\u001b[0mdocs\u001b[0m \u001b[0;32mfor\u001b[0m \u001b[0mtoken\u001b[0m \u001b[0;32min\u001b[0m \u001b[0mdoc\u001b[0m \u001b[0;32mif\u001b[0m \u001b[0mtoken\u001b[0m\u001b[0;34m.\u001b[0m\u001b[0mpos_\u001b[0m \u001b[0;34m==\u001b[0m \u001b[0;34m\"NOUN\"\u001b[0m\u001b[0;34m]\u001b[0m\u001b[0;34m\u001b[0m\u001b[0;34m\u001b[0m\u001b[0m\n",
      "\u001b[0;32m<ipython-input-18-8f3011290b40>\u001b[0m in \u001b[0;36m<listcomp>\u001b[0;34m(.0)\u001b[0m\n\u001b[1;32m      1\u001b[0m \u001b[0;31m# all tokens that arent stop words or punctuations\u001b[0m\u001b[0;34m\u001b[0m\u001b[0;34m\u001b[0m\u001b[0;34m\u001b[0m\u001b[0m\n\u001b[0;32m----> 2\u001b[0;31m \u001b[0mword_list\u001b[0m \u001b[0;34m=\u001b[0m \u001b[0;34m[\u001b[0m\u001b[0mtoken\u001b[0m \u001b[0;32mfor\u001b[0m \u001b[0mdoc\u001b[0m \u001b[0;32min\u001b[0m \u001b[0mmini_df\u001b[0m\u001b[0;34m.\u001b[0m\u001b[0mdocs\u001b[0m \u001b[0;32mfor\u001b[0m \u001b[0mtoken\u001b[0m \u001b[0;32min\u001b[0m \u001b[0mdoc\u001b[0m \u001b[0;32mif\u001b[0m \u001b[0mtoken\u001b[0m\u001b[0;34m.\u001b[0m\u001b[0mis_stop\u001b[0m \u001b[0;34m!=\u001b[0m \u001b[0;32mTrue\u001b[0m \u001b[0;32mand\u001b[0m \u001b[0mtoken\u001b[0m\u001b[0;34m.\u001b[0m\u001b[0mis_punct\u001b[0m \u001b[0;34m!=\u001b[0m \u001b[0;32mTrue\u001b[0m\u001b[0;34m]\u001b[0m\u001b[0;34m\u001b[0m\u001b[0;34m\u001b[0m\u001b[0m\n\u001b[0m\u001b[1;32m      3\u001b[0m \u001b[0;34m\u001b[0m\u001b[0m\n\u001b[1;32m      4\u001b[0m \u001b[0;31m# noun tokens that arent stop words or punctuations\u001b[0m\u001b[0;34m\u001b[0m\u001b[0;34m\u001b[0m\u001b[0;34m\u001b[0m\u001b[0m\n\u001b[1;32m      5\u001b[0m \u001b[0mnoun_list\u001b[0m \u001b[0;34m=\u001b[0m \u001b[0;34m[\u001b[0m\u001b[0mtoken\u001b[0m \u001b[0;32mfor\u001b[0m \u001b[0mdoc\u001b[0m \u001b[0;32min\u001b[0m \u001b[0mmini_df\u001b[0m\u001b[0;34m.\u001b[0m\u001b[0mdocs\u001b[0m \u001b[0;32mfor\u001b[0m \u001b[0mtoken\u001b[0m \u001b[0;32min\u001b[0m \u001b[0mdoc\u001b[0m \u001b[0;32mif\u001b[0m \u001b[0mtoken\u001b[0m\u001b[0;34m.\u001b[0m\u001b[0mpos_\u001b[0m \u001b[0;34m==\u001b[0m \u001b[0;34m\"NOUN\"\u001b[0m\u001b[0;34m]\u001b[0m\u001b[0;34m\u001b[0m\u001b[0;34m\u001b[0m\u001b[0m\n",
      "\u001b[0;31mAttributeError\u001b[0m: 'str' object has no attribute 'is_stop'"
     ]
    }
   ],
   "source": [
    "# all tokens that arent stop words or punctuations\n",
    "word_list = [token for doc in mini_df.docs for token in doc if token.is_stop != True and token.is_punct != True]\n",
    "\n",
    "# noun tokens that arent stop words or punctuations\n",
    "noun_list = [token for doc in mini_df.docs for token in doc if token.pos_ == \"NOUN\"]\n",
    "\n",
    "verb_list= [token for doc in mini_df.docs for token in doc if token.pos_ == \"VERB\"]\n"
   ]
  },
  {
   "cell_type": "code",
   "execution_count": 13,
   "metadata": {
    "colab": {
     "base_uri": "https://localhost:8080/"
    },
    "id": "Gc8h0-DNVvLU",
    "outputId": "f51651bb-6799-4206-87a4-7d497d9e50a6"
   },
   "outputs": [
    {
     "ename": "NameError",
     "evalue": "name 'word_list' is not defined",
     "output_type": "error",
     "traceback": [
      "\u001b[0;31m---------------------------------------\u001b[0m",
      "\u001b[0;31mNameError\u001b[0mTraceback (most recent call last)",
      "\u001b[0;32m<ipython-input-13-c9b90682b5cc>\u001b[0m in \u001b[0;36m<module>\u001b[0;34m\u001b[0m\n\u001b[0;32m----> 1\u001b[0;31m \u001b[0mc\u001b[0m \u001b[0;34m=\u001b[0m \u001b[0mCounter\u001b[0m\u001b[0;34m(\u001b[0m\u001b[0mword_list\u001b[0m \u001b[0;34m)\u001b[0m\u001b[0;34m\u001b[0m\u001b[0;34m\u001b[0m\u001b[0m\n\u001b[0m\u001b[1;32m      2\u001b[0m \u001b[0mbar_data\u001b[0m\u001b[0;34m=\u001b[0m\u001b[0mword_freq\u001b[0m\u001b[0;34m.\u001b[0m\u001b[0mmost_common\u001b[0m\u001b[0;34m(\u001b[0m\u001b[0;36m100\u001b[0m\u001b[0;34m)\u001b[0m\u001b[0;34m\u001b[0m\u001b[0;34m\u001b[0m\u001b[0m\n\u001b[1;32m      3\u001b[0m \u001b[0;32mdel\u001b[0m \u001b[0mc\u001b[0m\u001b[0;34m[\u001b[0m\u001b[0;34m'          '\u001b[0m\u001b[0;34m]\u001b[0m\u001b[0;34m\u001b[0m\u001b[0;34m\u001b[0m\u001b[0m\n\u001b[1;32m      4\u001b[0m \u001b[0;32mdel\u001b[0m \u001b[0mc\u001b[0m\u001b[0;34m[\u001b[0m\u001b[0;34m' '\u001b[0m\u001b[0;34m]\u001b[0m\u001b[0;34m\u001b[0m\u001b[0;34m\u001b[0m\u001b[0m\n\u001b[1;32m      5\u001b[0m \u001b[0mbar_data\u001b[0m\u001b[0;34m\u001b[0m\u001b[0;34m\u001b[0m\u001b[0m\n",
      "\u001b[0;31mNameError\u001b[0m: name 'word_list' is not defined"
     ]
    }
   ],
   "source": [
    "c = Counter(word_list )\n",
    "bar_data=word_freq.most_common(100)\n",
    "del c['          ']\n",
    "del c[' ']\n",
    "bar_data"
   ]
  },
  {
   "cell_type": "code",
   "execution_count": 79,
   "metadata": {
    "id": "GevMrhRBkToM"
   },
   "outputs": [],
   "source": [
    "index= [word for word, value in bar_data]\n",
    "values= [value for word, value in bar_data]"
   ]
  },
  {
   "cell_type": "code",
   "execution_count": 70,
   "metadata": {
    "colab": {
     "base_uri": "https://localhost:8080/",
     "height": 371
    },
    "id": "DPDntat5h4LE",
    "outputId": "e676a326-4df1-4811-ea36-4a6678a5292b"
   },
   "outputs": [
    {
     "name": "stderr",
     "output_type": "stream",
     "text": [
      "/usr/local/lib/python3.6/dist-packages/seaborn/_decorators.py:43: FutureWarning: Pass the following variables as keyword args: x, y. From version 0.12, the only valid positional argument will be `data`, and passing other arguments without an explicit keyword will result in an error or misinterpretation.\n",
      "  FutureWarning\n"
     ]
    },
    {
     "data": {
      "image/png": "[encoded data removed]",
      "text/plain": [
       "<Figure size 864x288 with 1 Axes>"
      ]
     },
     "metadata": {
      "needs_background": "light",
      "tags": []
     },
     "output_type": "display_data"
    },
    {
     "data": {
      "text/plain": [
       "<Figure size 432x288 with 0 Axes>"
      ]
     },
     "metadata": {
      "tags": []
     },
     "output_type": "display_data"
    }
   ],
   "source": [
    "index= [word for word, value in bar_data]\n",
    "values= [value for word, value in bar_data]\n",
    "\n",
    "plt.figure(figsize=(12,4))\n",
    "sns.barplot(index, values, alpha=0.8)\n",
    "plt.ylabel('Number of Occurrences', fontsize=12)\n",
    "plt.xlabel('Words', fontsize=12)\n",
    "plt.xticks(rotation=90)\n",
    "plt.show();\n",
    "plt.savefig('freq_words.png')"
   ]
  },
  {
   "cell_type": "code",
   "execution_count": 102,
   "metadata": {
    "id": "LEDG3ZUprG8G"
   },
   "outputs": [],
   "source": [
    "noun_text=[token.lower_ for token in noun_list]"
   ]
  },
  {
   "cell_type": "code",
   "execution_count": 106,
   "metadata": {
    "id": "MgjQB3YFKrNS"
   },
   "outputs": [],
   "source": [
    "noun_freq = Counter(noun_text)\n",
    "bar_data= noun_freq.most_common(20)"
   ]
  },
  {
   "cell_type": "code",
   "execution_count": 15,
   "metadata": {
    "colab": {
     "base_uri": "https://localhost:8080/",
     "height": 380
    },
    "id": "WpkzsrS6rjHt",
    "outputId": "ae46a45f-cd81-4b1a-a7a9-39fc46d0425e"
   },
   "outputs": [
    {
     "ename": "NameError",
     "evalue": "name 'bar_data' is not defined",
     "output_type": "error",
     "traceback": [
      "\u001b[0;31m---------------------------------------\u001b[0m",
      "\u001b[0;31mNameError\u001b[0mTraceback (most recent call last)",
      "\u001b[0;32m<ipython-input-15-2404c0aa0b0c>\u001b[0m in \u001b[0;36m<module>\u001b[0;34m\u001b[0m\n\u001b[0;32m----> 1\u001b[0;31m \u001b[0mindex\u001b[0m\u001b[0;34m=\u001b[0m \u001b[0;34m[\u001b[0m\u001b[0mword\u001b[0m \u001b[0;32mfor\u001b[0m \u001b[0mword\u001b[0m\u001b[0;34m,\u001b[0m \u001b[0mvalue\u001b[0m \u001b[0;32min\u001b[0m \u001b[0mbar_data\u001b[0m\u001b[0;34m]\u001b[0m\u001b[0;34m\u001b[0m\u001b[0;34m\u001b[0m\u001b[0m\n\u001b[0m\u001b[1;32m      2\u001b[0m \u001b[0mvalues\u001b[0m\u001b[0;34m=\u001b[0m \u001b[0;34m[\u001b[0m\u001b[0mvalue\u001b[0m \u001b[0;32mfor\u001b[0m \u001b[0mword\u001b[0m\u001b[0;34m,\u001b[0m \u001b[0mvalue\u001b[0m \u001b[0;32min\u001b[0m \u001b[0mbar_data\u001b[0m\u001b[0;34m]\u001b[0m\u001b[0;34m\u001b[0m\u001b[0;34m\u001b[0m\u001b[0m\n\u001b[1;32m      3\u001b[0m \u001b[0;34m\u001b[0m\u001b[0m\n\u001b[1;32m      4\u001b[0m \u001b[0mplt\u001b[0m\u001b[0;34m.\u001b[0m\u001b[0mfigure\u001b[0m\u001b[0;34m(\u001b[0m\u001b[0mfigsize\u001b[0m\u001b[0;34m=\u001b[0m\u001b[0;34m(\u001b[0m\u001b[0;36m12\u001b[0m\u001b[0;34m,\u001b[0m\u001b[0;36m4\u001b[0m\u001b[0;34m)\u001b[0m\u001b[0;34m)\u001b[0m\u001b[0;34m\u001b[0m\u001b[0;34m\u001b[0m\u001b[0m\n\u001b[1;32m      5\u001b[0m \u001b[0msns\u001b[0m\u001b[0;34m.\u001b[0m\u001b[0mbarplot\u001b[0m\u001b[0;34m(\u001b[0m\u001b[0mindex\u001b[0m\u001b[0;34m,\u001b[0m \u001b[0mvalues\u001b[0m\u001b[0;34m,\u001b[0m \u001b[0malpha\u001b[0m\u001b[0;34m=\u001b[0m\u001b[0;36m0.8\u001b[0m\u001b[0;34m)\u001b[0m\u001b[0;34m\u001b[0m\u001b[0;34m\u001b[0m\u001b[0m\n",
      "\u001b[0;31mNameError\u001b[0m: name 'bar_data' is not defined"
     ]
    }
   ],
   "source": [
    "index= [word for word, value in bar_data]\n",
    "values= [value for word, value in bar_data]\n",
    "\n",
    "plt.figure(figsize=(12,4))\n",
    "sns.barplot(index, values, alpha=0.8)\n",
    "plt.ylabel('Number of Occurrences', fontsize=12)\n",
    "plt.xlabel('Nouns', fontsize=12)\n",
    "plt.xticks(rotation=90)\n",
    "plt.show();\n",
    "plt.savefig('freq_nouns.png')"
   ]
  },
  {
   "cell_type": "code",
   "execution_count": 110,
   "metadata": {
    "id": "rBPw3B02KuJ8"
   },
   "outputs": [],
   "source": [
    "verb_text=[token.lower_ for token in verb_list]\n",
    "verb_freq = Counter(verb_text)\n",
    "bar_data = verb_freq.most_common(20)"
   ]
  },
  {
   "cell_type": "code",
   "execution_count": 111,
   "metadata": {
    "colab": {
     "base_uri": "https://localhost:8080/",
     "height": 371
    },
    "id": "Sb5bB0-bsyWs",
    "outputId": "cb8c86d0-b3e0-4a2e-9e86-03658cd65a41"
   },
   "outputs": [
    {
     "name": "stderr",
     "output_type": "stream",
     "text": [
      "/usr/local/lib/python3.6/dist-packages/seaborn/_decorators.py:43: FutureWarning: Pass the following variables as keyword args: x, y. From version 0.12, the only valid positional argument will be `data`, and passing other arguments without an explicit keyword will result in an error or misinterpretation.\n",
      "  FutureWarning\n"
     ]
    },
    {
     "data": {
      "image/png": "[encoded data removed]",
      "text/plain": [
       "<Figure size 864x288 with 1 Axes>"
      ]
     },
     "metadata": {
      "needs_background": "light",
      "tags": []
     },
     "output_type": "display_data"
    },
    {
     "data": {
      "text/plain": [
       "<Figure size 432x288 with 0 Axes>"
      ]
     },
     "metadata": {
      "tags": []
     },
     "output_type": "display_data"
    }
   ],
   "source": [
    "index= [word for word, value in bar_data]\n",
    "values= [value for word, value in bar_data]\n",
    "\n",
    "plt.figure(figsize=(12,4))\n",
    "sns.barplot(index, values, alpha=0.8)\n",
    "plt.ylabel('Number of Occurrences', fontsize=12)\n",
    "plt.xlabel('Verbs', fontsize=12)\n",
    "plt.xticks(rotation=90)\n",
    "plt.show();\n",
    "plt.savefig('freq_verbs.png')"
   ]
  },
  {
   "cell_type": "markdown",
   "metadata": {
    "id": "HAHTt-k0TXBt"
   },
   "source": [
    "# LDA Topic Modeling"
   ]
  },
  {
   "cell_type": "markdown",
   "metadata": {},
   "source": [
    "As part of my EDA, I wanted to see how this subset of the corpus would cluster. This later helped in finding keywords to further clean the dataset"
   ]
  },
  {
   "cell_type": "code",
   "execution_count": 112,
   "metadata": {
    "id": "7U5i0cmvVvlt"
   },
   "outputs": [],
   "source": [
    "import gensim \n",
    "from gensim import corpora \n",
    "from gensim.models import LdaModel, LdaMulticore \n",
    "import gensim.downloader as api \n",
    "from gensim.utils import simple_preprocess, lemmatize \n",
    "import textacy.vsm \n",
    "import textacy.tm"
   ]
  },
  {
   "cell_type": "code",
   "execution_count": 113,
   "metadata": {
    "id": "B1xzJtCuVva9"
   },
   "outputs": [],
   "source": [
    "\n",
    "vectorizer = textacy.vsm.Vectorizer(tf_type=\"linear\", apply_idf=True, idf_type=\"smooth\", norm=\"l2\",min_df=2, max_df=0.95)\n",
    "doc_term_matrix = vectorizer.fit_transform((doc._.to_terms_list(ngrams=1, entities=True, as_strings=True) for doc in mini_df.docs))"
   ]
  },
  {
   "cell_type": "code",
   "execution_count": null,
   "metadata": {},
   "outputs": [],
   "source": []
  },
  {
   "cell_type": "code",
   "execution_count": 114,
   "metadata": {
    "colab": {
     "base_uri": "https://localhost:8080/"
    },
    "id": "IEOX_A27Vu_Z",
    "outputId": "fa87832c-edfe-43b7-d294-ec78ecf74d3f"
   },
   "outputs": [
    {
     "name": "stdout",
     "output_type": "stream",
     "text": [
      "topic 0 : come   man   time   know   day   think   old   look   find   like   great   long   tell   hand   hear   night   way   good   leave   house   young   place   stand   head   away\n",
      "topic 1 : thou   thy   o   Allah   hath   King   Quoth   hast   ✿   quoth   God   till   unto   man   art   merchant   thine   Wazir   answer   Sultan   shall   wilt   lord   slay   come\n",
      "topic 2 : book   story   read   child   tale   volume   edition   write   p.   page   interest   author   literature   fairy   picture   Tales   illustration   vol   work   study   Story   version   history   pp   print\n",
      "topic 3 : little   child   mother   girl   baby   dear   look   old   think   oh   mamma   Mrs.   come   good   Mary   like   pretty   play   love   flower   poor   sister   Miss   doll   know\n",
      "topic 4 : king   princess   prince   queen   palace   daughter   vizier   son   fairy   kingdom   youth   castle   shall   court   come   royal   send   golden   father   majesty   brother   wife   bid   dragon   Abou\n",
      "topic 5 : horse   Hugh   ride   Ivan   mare   saddle   shoe   wolf   road   Tsarevich   mount   emperor   man   rider   stable   bridle   field   old   gallop   animal   Tsar   apple   colt   camp   Horse\n",
      "topic 6 : King   Prince   Princess   Queen   Giglio   Fairy   fairy   palace   daughter   Bulbo   castle   marry   Majesty   kingdom   Angelica   royal   son   beautiful   Betsinda   sleep   Court   ring   Padella   ask   Rosalba\n",
      "topic 7 : $   Illustrated   Cloth   16mo   1.50   6d   8vo   12mo   cloth   cent   1.25   volume   illustration   colour   4to   3s   gild   price   author   2s   3s 6d   edge   illustrate   Edition   Stories\n",
      "topic 8 : Jack   Hugh   giant   castle   Giant   Mopsa   Joe   cow   camp   pocket   coat   Gobborn   boat   quoth   bee   Bertie   head   lord   Goose   Puss   kill   pack   knife   rope   start\n",
      "topic 9 : Lion   Fox   Wolf   Ass   Mouse   Stag   Man   Cock   den   Reynard   FOX   come   tail   beast   ass   divide   Cat   fox   lion   Eagle   Horse   LION   animal   spring   Hare\n",
      "topic 10 : boy   school   father   teacher   soldier   son   little   Samuel   good   Dick   fun   learn   play   John   read   Phil   girl   mother   think   lad   kite   lesson   Ned   Wiggily   tell\n",
      "topic 11 : Tom   Thumb   Tom Thumb   pudding   Arthur   mouse   King   Ted   fox   miller   Chrysomela   ogre   tinker   thumb   poor   ploughman   batter   court   Merlin   catch   cow   spider   thistle   mother   Godmother\n",
      "topic 12 : ship   sea   island   sail   boat   captain   sailor   merchant   shore   land   voyage   vessel   board   Captain   water   Sindbad   wave   deck   mast   crow   roc   embark   bale   great   rock\n",
      "topic 13 : dog   Dog   monkey   master   shepherd   bark   kennel   James   sheep   eat   dinner   Wolf   pepper   fox   robber   bite   hen   friend   animal   come   cur   tiger   terrier   elephant   run\n",
      "topic 14 : =   tr   cloth   story   Footnote   text   page   ST   Illustrations   extra   etc   8vo   Crown   Crown 8vo   c.   Arab   i.e.   introduction   arab   illustration   New   price   al   hu   Tale\n",
      "topic 15 : Bobby   Bayard   dollar   book   Lee   Squire   Squire Lee   Mr.   sir   Annie   pay   Bright   hero   squire   Riverdale   Wayfarer   sell   Spicer   Timmins   Ellen   mother   Sam   ram   Boston   Hardhand\n",
      "topic 16 : bird   tree   nest   fly   sing   branch   flower   wing   song   sparrow   green   little   egg   apple   leave   wood   feather   beautiful   Tree   forest   robin   away   winter   wind   snow\n",
      "topic 17 : knight   Sir   Arthur   Undine   sword   Artegall   Huldbrand   Knight   lady   Sancho   dragon   Galahad   squire   shield   Quixote   Kay   Bertalda   Don   Calidore   castle   ride   Ector   giant   Britomart   fair\n",
      "topic 18 : cat   mouse   Puss   Marquis   Carabas   Cat   Marquis Carabas   rat   kitten   bag   Ruth   puss   miller   lion   eat   ogre   tail   master   paw   rabbit   run   boot   Pussy   jump   donkey\n",
      "topic 19 : Mr.   Mrs.   Hazel   Rabbit   Frog   Rollo   sir   Ernest   Crow   Peter   Miss   Vinegar   John   Kiddie   know   Grandfather   gentleman   think   Old   Wych   Meadows   want   Thimblefinger   Ewart   Grandfather Frog\n",
      "topic 20 : de   et   la   le   dit   à   vous   les   que   Le   il   dans   un   dat   des   qui   du   une   je   en   est   femme   elle   Madame   loup\n",
      "topic 21 : Bear   Wee   porridge   Middle Bear   Huge   little small Wee Bear   Middle   little   Small   small   bear   voice   chair   wee   middle   great huge Bear   pot   Little   spoon   bed   Great   Bears   woman   somebody   size\n",
      "topic 22 : Robin   Hood   Robin Hood   skate   Redbreast   John   Cock Robin   yeoman   Nottingham   Little   Cock   Dale   sheriff   greenwood   abbot   mourner   feather   bride   Little John   Rook   bow   Mrs.   Scarlet   outlaw   knight\n",
      "topic 23 : |   |    |   chapter   Histoire   Charlotte   du   +   verse   historic   101   Illustrations   Psalm   3   8   tradition   Cyril   history   letter   Coloured   culture   Plates   Wafír   Mufá'alatun   Hazaj   Abú\n",
      "topic 24 : Neddie   Beckie   bear   Stubtail   Whitewash   Neddie Beckie   Piffy   oh   Kat   Wigwag   doll   Tommie   Beckie Neddie   Uncle Wigwag   paw   Aunt   Uncle   alligator   papa   cave   birdie   cake   gentleman   Professor   cry\n"
     ]
    }
   ],
   "source": [
    "model = textacy.tm.TopicModel(\"nmf\", n_topics=25)\n",
    "model.fit(doc_term_matrix)\n",
    "doc_topic_matrix = model.transform(doc_term_matrix)\n",
    "\n",
    "for topic_idx, top_terms in model.top_topic_terms(vectorizer.id_to_term, top_n=25):\n",
    "  print(\"topic\", topic_idx, \":\", \"   \".join(top_terms))"
   ]
  },
  {
   "cell_type": "markdown",
   "metadata": {},
   "source": [
    "### Highlighting Bad Texts with Words from  topic modeling"
   ]
  },
  {
   "cell_type": "code",
   "execution_count": 85,
   "metadata": {},
   "outputs": [
    {
     "data": {
      "text/plain": [
       "False    21463\n",
       "True      1060\n",
       "Name: flag_bad_texts, dtype: int64"
      ]
     },
     "execution_count": 85,
     "metadata": {},
     "output_type": "execute_result"
    }
   ],
   "source": [
    "#Further data cleaning with data from LDA\n",
    "bad_words= ['illustrated', 'footnote', 'tr', 'fn','introduction', 'preface', 'une', 'histoire']\n",
    "\n",
    "df['flag_bad_texts']= df.story_text.apply(lambda x: any(word in x.lower().replace('.','').split(' ') for word in bad_words))\n",
    "df.flag_bad_texts.value_counts()"
   ]
  },
  {
   "cell_type": "code",
   "execution_count": 86,
   "metadata": {},
   "outputs": [],
   "source": [
    "df= df[df.flag_bad_texts==False]\n",
    "df.reset_index(inplace=True, drop=True)\n"
   ]
  },
  {
   "cell_type": "code",
   "execution_count": 87,
   "metadata": {},
   "outputs": [],
   "source": [
    "df=df[['story_title', 'story_text', 'book_id', 'book_author', 'book_title', 'word_count']]\n"
   ]
  }
 ],
 "metadata": {
  "accelerator": "GPU",
  "colab": {
   "collapsed_sections": [],
   "name": "spacy_preprocessing_collab_visualizations.ipynb",
   "provenance": []
  },
  "kernelspec": {
   "display_name": "Python 3",
   "language": "python",
   "name": "python3"
  },
  "language_info": {
   "codemirror_mode": {
    "name": "ipython",
    "version": 3
   },
   "file_extension": ".py",
   "mimetype": "text/x-python",
   "name": "python",
   "nbconvert_exporter": "python",
   "pygments_lexer": "ipython3",
   "version": "3.7.6"
  }
 },
 "nbformat": 4,
 "nbformat_minor": 1
}
