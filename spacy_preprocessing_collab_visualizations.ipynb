{
  "nbformat": 4,
  "nbformat_minor": 0,
  "metadata": {
    "colab": {
      "name": "spacy_preprocessing_collab_visualizations.ipynb",
      "provenance": [],
      "collapsed_sections": []
    },
    "kernelspec": {
      "name": "python3",
      "display_name": "Python 3"
    },
    "accelerator": "GPU"
  },
  "cells": [
    {
      "cell_type": "code",
      "metadata": {
        "id": "nVd44-hr_Kfm",
        "outputId": "edae8091-53ea-4944-edf7-d888d8101f0c",
        "colab": {
          "base_uri": "https://localhost:8080/"
        }
      },
      "source": [
        "!pip install tensorflow-gpu"
      ],
      "execution_count": 1,
      "outputs": [
        {
          "output_type": "stream",
          "text": [
            "Requirement already satisfied: tensorflow-gpu in /usr/local/lib/python3.6/dist-packages (2.3.1)\n",
            "Requirement already satisfied: tensorboard<3,>=2.3.0 in /usr/local/lib/python3.6/dist-packages (from tensorflow-gpu) (2.3.0)\n",
            "Requirement already satisfied: opt-einsum>=2.3.2 in /usr/local/lib/python3.6/dist-packages (from tensorflow-gpu) (3.3.0)\n",
            "Requirement already satisfied: protobuf>=3.9.2 in /usr/local/lib/python3.6/dist-packages (from tensorflow-gpu) (3.12.4)\n",
            "Requirement already satisfied: six>=1.12.0 in /usr/local/lib/python3.6/dist-packages (from tensorflow-gpu) (1.15.0)\n",
            "Requirement already satisfied: h5py<2.11.0,>=2.10.0 in /usr/local/lib/python3.6/dist-packages (from tensorflow-gpu) (2.10.0)\n",
            "Requirement already satisfied: astunparse==1.6.3 in /usr/local/lib/python3.6/dist-packages (from tensorflow-gpu) (1.6.3)\n",
            "Requirement already satisfied: wrapt>=1.11.1 in /usr/local/lib/python3.6/dist-packages (from tensorflow-gpu) (1.12.1)\n",
            "Requirement already satisfied: numpy<1.19.0,>=1.16.0 in /usr/local/lib/python3.6/dist-packages (from tensorflow-gpu) (1.18.5)\n",
            "Requirement already satisfied: keras-preprocessing<1.2,>=1.1.1 in /usr/local/lib/python3.6/dist-packages (from tensorflow-gpu) (1.1.2)\n",
            "Requirement already satisfied: grpcio>=1.8.6 in /usr/local/lib/python3.6/dist-packages (from tensorflow-gpu) (1.33.2)\n",
            "Requirement already satisfied: gast==0.3.3 in /usr/local/lib/python3.6/dist-packages (from tensorflow-gpu) (0.3.3)\n",
            "Requirement already satisfied: termcolor>=1.1.0 in /usr/local/lib/python3.6/dist-packages (from tensorflow-gpu) (1.1.0)\n",
            "Requirement already satisfied: tensorflow-estimator<2.4.0,>=2.3.0 in /usr/local/lib/python3.6/dist-packages (from tensorflow-gpu) (2.3.0)\n",
            "Requirement already satisfied: absl-py>=0.7.0 in /usr/local/lib/python3.6/dist-packages (from tensorflow-gpu) (0.10.0)\n",
            "Requirement already satisfied: wheel>=0.26 in /usr/local/lib/python3.6/dist-packages (from tensorflow-gpu) (0.35.1)\n",
            "Requirement already satisfied: google-pasta>=0.1.8 in /usr/local/lib/python3.6/dist-packages (from tensorflow-gpu) (0.2.0)\n",
            "Requirement already satisfied: google-auth<2,>=1.6.3 in /usr/local/lib/python3.6/dist-packages (from tensorboard<3,>=2.3.0->tensorflow-gpu) (1.17.2)\n",
            "Requirement already satisfied: setuptools>=41.0.0 in /usr/local/lib/python3.6/dist-packages (from tensorboard<3,>=2.3.0->tensorflow-gpu) (50.3.2)\n",
            "Requirement already satisfied: markdown>=2.6.8 in /usr/local/lib/python3.6/dist-packages (from tensorboard<3,>=2.3.0->tensorflow-gpu) (3.3.3)\n",
            "Requirement already satisfied: google-auth-oauthlib<0.5,>=0.4.1 in /usr/local/lib/python3.6/dist-packages (from tensorboard<3,>=2.3.0->tensorflow-gpu) (0.4.2)\n",
            "Requirement already satisfied: werkzeug>=0.11.15 in /usr/local/lib/python3.6/dist-packages (from tensorboard<3,>=2.3.0->tensorflow-gpu) (1.0.1)\n",
            "Requirement already satisfied: requests<3,>=2.21.0 in /usr/local/lib/python3.6/dist-packages (from tensorboard<3,>=2.3.0->tensorflow-gpu) (2.23.0)\n",
            "Requirement already satisfied: tensorboard-plugin-wit>=1.6.0 in /usr/local/lib/python3.6/dist-packages (from tensorboard<3,>=2.3.0->tensorflow-gpu) (1.7.0)\n",
            "Requirement already satisfied: cachetools<5.0,>=2.0.0 in /usr/local/lib/python3.6/dist-packages (from google-auth<2,>=1.6.3->tensorboard<3,>=2.3.0->tensorflow-gpu) (4.1.1)\n",
            "Requirement already satisfied: pyasn1-modules>=0.2.1 in /usr/local/lib/python3.6/dist-packages (from google-auth<2,>=1.6.3->tensorboard<3,>=2.3.0->tensorflow-gpu) (0.2.8)\n",
            "Requirement already satisfied: rsa<5,>=3.1.4; python_version >= \"3\" in /usr/local/lib/python3.6/dist-packages (from google-auth<2,>=1.6.3->tensorboard<3,>=2.3.0->tensorflow-gpu) (4.6)\n",
            "Requirement already satisfied: importlib-metadata; python_version < \"3.8\" in /usr/local/lib/python3.6/dist-packages (from markdown>=2.6.8->tensorboard<3,>=2.3.0->tensorflow-gpu) (2.0.0)\n",
            "Requirement already satisfied: requests-oauthlib>=0.7.0 in /usr/local/lib/python3.6/dist-packages (from google-auth-oauthlib<0.5,>=0.4.1->tensorboard<3,>=2.3.0->tensorflow-gpu) (1.3.0)\n",
            "Requirement already satisfied: chardet<4,>=3.0.2 in /usr/local/lib/python3.6/dist-packages (from requests<3,>=2.21.0->tensorboard<3,>=2.3.0->tensorflow-gpu) (3.0.4)\n",
            "Requirement already satisfied: urllib3!=1.25.0,!=1.25.1,<1.26,>=1.21.1 in /usr/local/lib/python3.6/dist-packages (from requests<3,>=2.21.0->tensorboard<3,>=2.3.0->tensorflow-gpu) (1.24.3)\n",
            "Requirement already satisfied: idna<3,>=2.5 in /usr/local/lib/python3.6/dist-packages (from requests<3,>=2.21.0->tensorboard<3,>=2.3.0->tensorflow-gpu) (2.10)\n",
            "Requirement already satisfied: certifi>=2017.4.17 in /usr/local/lib/python3.6/dist-packages (from requests<3,>=2.21.0->tensorboard<3,>=2.3.0->tensorflow-gpu) (2020.6.20)\n",
            "Requirement already satisfied: pyasn1<0.5.0,>=0.4.6 in /usr/local/lib/python3.6/dist-packages (from pyasn1-modules>=0.2.1->google-auth<2,>=1.6.3->tensorboard<3,>=2.3.0->tensorflow-gpu) (0.4.8)\n",
            "Requirement already satisfied: zipp>=0.5 in /usr/local/lib/python3.6/dist-packages (from importlib-metadata; python_version < \"3.8\"->markdown>=2.6.8->tensorboard<3,>=2.3.0->tensorflow-gpu) (3.4.0)\n",
            "Requirement already satisfied: oauthlib>=3.0.0 in /usr/local/lib/python3.6/dist-packages (from requests-oauthlib>=0.7.0->google-auth-oauthlib<0.5,>=0.4.1->tensorboard<3,>=2.3.0->tensorflow-gpu) (3.1.0)\n"
          ],
          "name": "stdout"
        }
      ]
    },
    {
      "cell_type": "code",
      "metadata": {
        "id": "C3SUHA8k8jAM",
        "outputId": "b7f56e82-0c85-4f28-aebd-73a269ac067e",
        "colab": {
          "base_uri": "https://localhost:8080/"
        }
      },
      "source": [
        "!pip install textacy"
      ],
      "execution_count": 2,
      "outputs": [
        {
          "output_type": "stream",
          "text": [
            "Requirement already satisfied: textacy in /usr/local/lib/python3.6/dist-packages (0.10.1)\n",
            "Requirement already satisfied: numpy>=1.17.0 in /usr/local/lib/python3.6/dist-packages (from textacy) (1.18.5)\n",
            "Requirement already satisfied: jellyfish>=0.7.0 in /usr/local/lib/python3.6/dist-packages (from textacy) (0.8.2)\n",
            "Requirement already satisfied: pyemd>=0.5.0 in /usr/local/lib/python3.6/dist-packages (from textacy) (0.5.1)\n",
            "Requirement already satisfied: pyphen>=0.9.4 in /usr/local/lib/python3.6/dist-packages (from textacy) (0.10.0)\n",
            "Requirement already satisfied: scikit-learn<0.24.0,>=0.19.0 in /usr/local/lib/python3.6/dist-packages (from textacy) (0.22.2.post1)\n",
            "Requirement already satisfied: cytoolz>=0.8.0 in /usr/local/lib/python3.6/dist-packages (from textacy) (0.11.0)\n",
            "Requirement already satisfied: tqdm>=4.19.6 in /usr/local/lib/python3.6/dist-packages (from textacy) (4.41.1)\n",
            "Requirement already satisfied: srsly>=0.0.5 in /usr/local/lib/python3.6/dist-packages (from textacy) (1.0.2)\n",
            "Requirement already satisfied: joblib>=0.13.0 in /usr/local/lib/python3.6/dist-packages (from textacy) (0.17.0)\n",
            "Requirement already satisfied: spacy<3.0.0,>=2.2.0 in /usr/local/lib/python3.6/dist-packages (from textacy) (2.2.4)\n",
            "Requirement already satisfied: scipy>=0.17.0 in /usr/local/lib/python3.6/dist-packages (from textacy) (1.4.1)\n",
            "Requirement already satisfied: cachetools>=2.0.1 in /usr/local/lib/python3.6/dist-packages (from textacy) (4.1.1)\n",
            "Requirement already satisfied: networkx>=2.0 in /usr/local/lib/python3.6/dist-packages (from textacy) (2.5)\n",
            "Requirement already satisfied: requests>=2.10.0 in /usr/local/lib/python3.6/dist-packages (from textacy) (2.23.0)\n",
            "Requirement already satisfied: toolz>=0.8.0 in /usr/local/lib/python3.6/dist-packages (from cytoolz>=0.8.0->textacy) (0.11.1)\n",
            "Requirement already satisfied: setuptools in /usr/local/lib/python3.6/dist-packages (from spacy<3.0.0,>=2.2.0->textacy) (50.3.2)\n",
            "Requirement already satisfied: murmurhash<1.1.0,>=0.28.0 in /usr/local/lib/python3.6/dist-packages (from spacy<3.0.0,>=2.2.0->textacy) (1.0.3)\n",
            "Requirement already satisfied: wasabi<1.1.0,>=0.4.0 in /usr/local/lib/python3.6/dist-packages (from spacy<3.0.0,>=2.2.0->textacy) (0.8.0)\n",
            "Requirement already satisfied: preshed<3.1.0,>=3.0.2 in /usr/local/lib/python3.6/dist-packages (from spacy<3.0.0,>=2.2.0->textacy) (3.0.2)\n",
            "Requirement already satisfied: blis<0.5.0,>=0.4.0 in /usr/local/lib/python3.6/dist-packages (from spacy<3.0.0,>=2.2.0->textacy) (0.4.1)\n",
            "Requirement already satisfied: cymem<2.1.0,>=2.0.2 in /usr/local/lib/python3.6/dist-packages (from spacy<3.0.0,>=2.2.0->textacy) (2.0.4)\n",
            "Requirement already satisfied: plac<1.2.0,>=0.9.6 in /usr/local/lib/python3.6/dist-packages (from spacy<3.0.0,>=2.2.0->textacy) (1.1.3)\n",
            "Requirement already satisfied: thinc==7.4.0 in /usr/local/lib/python3.6/dist-packages (from spacy<3.0.0,>=2.2.0->textacy) (7.4.0)\n",
            "Requirement already satisfied: catalogue<1.1.0,>=0.0.7 in /usr/local/lib/python3.6/dist-packages (from spacy<3.0.0,>=2.2.0->textacy) (1.0.0)\n",
            "Requirement already satisfied: decorator>=4.3.0 in /usr/local/lib/python3.6/dist-packages (from networkx>=2.0->textacy) (4.4.2)\n",
            "Requirement already satisfied: idna<3,>=2.5 in /usr/local/lib/python3.6/dist-packages (from requests>=2.10.0->textacy) (2.10)\n",
            "Requirement already satisfied: urllib3!=1.25.0,!=1.25.1,<1.26,>=1.21.1 in /usr/local/lib/python3.6/dist-packages (from requests>=2.10.0->textacy) (1.24.3)\n",
            "Requirement already satisfied: chardet<4,>=3.0.2 in /usr/local/lib/python3.6/dist-packages (from requests>=2.10.0->textacy) (3.0.4)\n",
            "Requirement already satisfied: certifi>=2017.4.17 in /usr/local/lib/python3.6/dist-packages (from requests>=2.10.0->textacy) (2020.6.20)\n",
            "Requirement already satisfied: importlib-metadata>=0.20; python_version < \"3.8\" in /usr/local/lib/python3.6/dist-packages (from catalogue<1.1.0,>=0.0.7->spacy<3.0.0,>=2.2.0->textacy) (2.0.0)\n",
            "Requirement already satisfied: zipp>=0.5 in /usr/local/lib/python3.6/dist-packages (from importlib-metadata>=0.20; python_version < \"3.8\"->catalogue<1.1.0,>=0.0.7->spacy<3.0.0,>=2.2.0->textacy) (3.4.0)\n"
          ],
          "name": "stdout"
        }
      ]
    },
    {
      "cell_type": "code",
      "metadata": {
        "id": "5e0bT-Sb6Zav",
        "outputId": "fb24d38e-7c63-4b63-c66e-2dd8e82e34ea",
        "colab": {
          "base_uri": "https://localhost:8080/"
        }
      },
      "source": [
        "!python -m spacy download en_core_web_lg\n"
      ],
      "execution_count": 3,
      "outputs": [
        {
          "output_type": "stream",
          "text": [
            "Requirement already satisfied: en_core_web_lg==2.2.5 from https://github.com/explosion/spacy-models/releases/download/en_core_web_lg-2.2.5/en_core_web_lg-2.2.5.tar.gz#egg=en_core_web_lg==2.2.5 in /usr/local/lib/python3.6/dist-packages (2.2.5)\n",
            "Requirement already satisfied: spacy>=2.2.2 in /usr/local/lib/python3.6/dist-packages (from en_core_web_lg==2.2.5) (2.2.4)\n",
            "Requirement already satisfied: preshed<3.1.0,>=3.0.2 in /usr/local/lib/python3.6/dist-packages (from spacy>=2.2.2->en_core_web_lg==2.2.5) (3.0.2)\n",
            "Requirement already satisfied: catalogue<1.1.0,>=0.0.7 in /usr/local/lib/python3.6/dist-packages (from spacy>=2.2.2->en_core_web_lg==2.2.5) (1.0.0)\n",
            "Requirement already satisfied: setuptools in /usr/local/lib/python3.6/dist-packages (from spacy>=2.2.2->en_core_web_lg==2.2.5) (50.3.2)\n",
            "Requirement already satisfied: murmurhash<1.1.0,>=0.28.0 in /usr/local/lib/python3.6/dist-packages (from spacy>=2.2.2->en_core_web_lg==2.2.5) (1.0.3)\n",
            "Requirement already satisfied: cymem<2.1.0,>=2.0.2 in /usr/local/lib/python3.6/dist-packages (from spacy>=2.2.2->en_core_web_lg==2.2.5) (2.0.4)\n",
            "Requirement already satisfied: plac<1.2.0,>=0.9.6 in /usr/local/lib/python3.6/dist-packages (from spacy>=2.2.2->en_core_web_lg==2.2.5) (1.1.3)\n",
            "Requirement already satisfied: requests<3.0.0,>=2.13.0 in /usr/local/lib/python3.6/dist-packages (from spacy>=2.2.2->en_core_web_lg==2.2.5) (2.23.0)\n",
            "Requirement already satisfied: thinc==7.4.0 in /usr/local/lib/python3.6/dist-packages (from spacy>=2.2.2->en_core_web_lg==2.2.5) (7.4.0)\n",
            "Requirement already satisfied: tqdm<5.0.0,>=4.38.0 in /usr/local/lib/python3.6/dist-packages (from spacy>=2.2.2->en_core_web_lg==2.2.5) (4.41.1)\n",
            "Requirement already satisfied: numpy>=1.15.0 in /usr/local/lib/python3.6/dist-packages (from spacy>=2.2.2->en_core_web_lg==2.2.5) (1.18.5)\n",
            "Requirement already satisfied: wasabi<1.1.0,>=0.4.0 in /usr/local/lib/python3.6/dist-packages (from spacy>=2.2.2->en_core_web_lg==2.2.5) (0.8.0)\n",
            "Requirement already satisfied: srsly<1.1.0,>=1.0.2 in /usr/local/lib/python3.6/dist-packages (from spacy>=2.2.2->en_core_web_lg==2.2.5) (1.0.2)\n",
            "Requirement already satisfied: blis<0.5.0,>=0.4.0 in /usr/local/lib/python3.6/dist-packages (from spacy>=2.2.2->en_core_web_lg==2.2.5) (0.4.1)\n",
            "Requirement already satisfied: importlib-metadata>=0.20; python_version < \"3.8\" in /usr/local/lib/python3.6/dist-packages (from catalogue<1.1.0,>=0.0.7->spacy>=2.2.2->en_core_web_lg==2.2.5) (2.0.0)\n",
            "Requirement already satisfied: idna<3,>=2.5 in /usr/local/lib/python3.6/dist-packages (from requests<3.0.0,>=2.13.0->spacy>=2.2.2->en_core_web_lg==2.2.5) (2.10)\n",
            "Requirement already satisfied: chardet<4,>=3.0.2 in /usr/local/lib/python3.6/dist-packages (from requests<3.0.0,>=2.13.0->spacy>=2.2.2->en_core_web_lg==2.2.5) (3.0.4)\n",
            "Requirement already satisfied: certifi>=2017.4.17 in /usr/local/lib/python3.6/dist-packages (from requests<3.0.0,>=2.13.0->spacy>=2.2.2->en_core_web_lg==2.2.5) (2020.6.20)\n",
            "Requirement already satisfied: urllib3!=1.25.0,!=1.25.1,<1.26,>=1.21.1 in /usr/local/lib/python3.6/dist-packages (from requests<3.0.0,>=2.13.0->spacy>=2.2.2->en_core_web_lg==2.2.5) (1.24.3)\n",
            "Requirement already satisfied: zipp>=0.5 in /usr/local/lib/python3.6/dist-packages (from importlib-metadata>=0.20; python_version < \"3.8\"->catalogue<1.1.0,>=0.0.7->spacy>=2.2.2->en_core_web_lg==2.2.5) (3.4.0)\n",
            "\u001b[38;5;2m✔ Download and installation successful\u001b[0m\n",
            "You can now load the model via spacy.load('en_core_web_lg')\n"
          ],
          "name": "stdout"
        }
      ]
    },
    {
      "cell_type": "code",
      "metadata": {
        "id": "CM5Ryw3VLz1-",
        "outputId": "afa8584d-a5db-40e4-c028-9dbf7a1a584a",
        "colab": {
          "base_uri": "https://localhost:8080/"
        }
      },
      "source": [
        "import tensorflow as tf\n",
        "device_name = tf.test.gpu_device_name()\n",
        "if device_name != '/device:GPU:0':\n",
        "  raise SystemError('GPU device not found')\n",
        "print('Found GPU at: {}'.format(device_name))"
      ],
      "execution_count": 4,
      "outputs": [
        {
          "output_type": "stream",
          "text": [
            "Found GPU at: /device:GPU:0\n"
          ],
          "name": "stdout"
        }
      ]
    },
    {
      "cell_type": "code",
      "metadata": {
        "id": "t6UwhEDV5nt2"
      },
      "source": [
        "import numpy as np\n",
        "import pandas as pd\n",
        "\n",
        "from sklearn.model_selection import train_test_split\n",
        "from collections import Counter\n",
        "from seaborn import heatmap\n",
        "import seaborn as sns\n",
        "import matplotlib.pyplot as plt\n",
        "import spacy\n",
        "import re\n",
        "\n",
        "pd.set_option('display.max_rows', 500)\n",
        "pd.set_option('display.max_columns', 500)\n",
        "pd.set_option('display.width', 1000)"
      ],
      "execution_count": 64,
      "outputs": []
    },
    {
      "cell_type": "code",
      "metadata": {
        "id": "9GAS8j4j5rZd"
      },
      "source": [
        "from spacy.tokens import Doc, Token, Span\n",
        "\n",
        "import gensim\n"
      ],
      "execution_count": 6,
      "outputs": []
    },
    {
      "cell_type": "code",
      "metadata": {
        "id": "rRJ9cXaikJpE"
      },
      "source": [
        "\n"
      ],
      "execution_count": null,
      "outputs": []
    },
    {
      "cell_type": "code",
      "metadata": {
        "id": "2Z_oGiUI5vgy"
      },
      "source": [
        "\n",
        "import en_core_web_lg\n",
        "nlp = en_core_web_lg.load()\n"
      ],
      "execution_count": 7,
      "outputs": []
    },
    {
      "cell_type": "code",
      "metadata": {
        "id": "q5FTvDmd_V50"
      },
      "source": [
        "df= pd.read_csv('story_data.csv',index_col='index' )"
      ],
      "execution_count": 8,
      "outputs": []
    },
    {
      "cell_type": "code",
      "metadata": {
        "id": "eTC_PgsR_vbx"
      },
      "source": [
        "df=df[['story_title', 'story_text', 'book_id', 'book_author', 'book_title']]"
      ],
      "execution_count": 9,
      "outputs": []
    },
    {
      "cell_type": "code",
      "metadata": {
        "id": "_xm2p4wUDxER"
      },
      "source": [
        "def word_count(string):\n",
        "    return len(string.split(' '))"
      ],
      "execution_count": 10,
      "outputs": []
    },
    {
      "cell_type": "code",
      "metadata": {
        "id": "m7TLBgp3Uf-w"
      },
      "source": [
        "def flag_acknowledgments(string):\n",
        "  return 'acknowledgment' in string.lower()"
      ],
      "execution_count": 11,
      "outputs": []
    },
    {
      "cell_type": "code",
      "metadata": {
        "id": "iT-3l8jvWTCQ"
      },
      "source": [
        "def remove_underscores_spaces(story):\n",
        "  split_string=story.split(' ')\n",
        "  return ' '.join([word.replace('_','') for word in split_string if ' ' not in word])"
      ],
      "execution_count": 13,
      "outputs": []
    },
    {
      "cell_type": "code",
      "metadata": {
        "id": "0wbb-QZFImwm"
      },
      "source": [
        "df['clean_text'] = df.story_text.apply(lambda x: remove_underscores_spaces(x))"
      ],
      "execution_count": 14,
      "outputs": []
    },
    {
      "cell_type": "code",
      "metadata": {
        "id": "wYvwcoOHDxe8"
      },
      "source": [
        "df['word_count']= df.story_text.map(lambda x: word_count(x))"
      ],
      "execution_count": 15,
      "outputs": []
    },
    {
      "cell_type": "code",
      "metadata": {
        "id": "iHo5VJ_sUqTi"
      },
      "source": [
        "df['flag_acknow']=df.story_title.apply(flag_acknowledgments)"
      ],
      "execution_count": 16,
      "outputs": []
    },
    {
      "cell_type": "code",
      "metadata": {
        "id": "T5X4vNQQU3GU"
      },
      "source": [
        "df.drop(index=df[df.flag_acknow==True].index, inplace=True)"
      ],
      "execution_count": 17,
      "outputs": []
    },
    {
      "cell_type": "code",
      "metadata": {
        "id": "Y43IR8hxDx0G"
      },
      "source": [
        "new_df= df[(df.word_count>50)&(df.word_count<=10000)]\n",
        "new_df.reset_index(inplace=True)"
      ],
      "execution_count": 18,
      "outputs": []
    },
    {
      "cell_type": "markdown",
      "metadata": {
        "id": "apL2cPgUWHqh"
      },
      "source": [
        "PREPROCESSING WITH SPACY"
      ]
    },
    {
      "cell_type": "code",
      "metadata": {
        "id": "FRDvG9O3MRY2"
      },
      "source": [
        "def gpu_nlp_pipe(series_of_texts):\n",
        "  with tf.device('/device:GPU:0'):\n",
        "    docs=list(nlp.pipe(series_of_texts, batch_size=100))\n",
        "    return docs"
      ],
      "execution_count": 19,
      "outputs": []
    },
    {
      "cell_type": "code",
      "metadata": {
        "id": "Ax--w-uZyG1R"
      },
      "source": [
        "'''\n",
        "def batch_texts(series_of_texts, batch_size):\n",
        "  num_texts=len(series_of_texts)\n",
        "  num_batches=num_texts//batch_size\n",
        "  last_batch_size=num_texts-num_texts*num_batches\n",
        "  batch_names = ['batch_'+str(i) for i in range(1, num_batches+1)]\n",
        "  batch_dict={}\n",
        "\n",
        "  for i in range(num_batches):\n",
        "    if i==num_batches-1:\n",
        "      batch_dict[batch_names[i]]= series_of_texts[batch_size*i:batch_size*i+last_batch_size]\n",
        "    else:\n",
        "      batch_dict[batch_names[i]]= series_of_texts[batch_size*i:batch_size*i+batch_size]\n",
        "  return batch_dict\n"
      ],
      "execution_count": 19,
      "outputs": []
    },
    {
      "cell_type": "code",
      "metadata": {
        "id": "UW_d-zQX1oGj"
      },
      "source": [
        "'''\n",
        "batch_dict = batch_texts(new_df.clean_text, 1000)\n",
        "list_of_docs=[]"
      ],
      "execution_count": 21,
      "outputs": []
    },
    {
      "cell_type": "code",
      "metadata": {
        "id": "b-IYNK-VDxT6"
      },
      "source": [
        "'''\n",
        "for value in batch_dict.values():\n",
        "  list_of_docs+=gpu_nlp_pipe(value)"
      ],
      "execution_count": null,
      "outputs": []
    },
    {
      "cell_type": "code",
      "metadata": {
        "id": "d7wahqAT8Ngu"
      },
      "source": [
        "token.  "
      ],
      "execution_count": null,
      "outputs": []
    },
    {
      "cell_type": "markdown",
      "metadata": {
        "id": "nh1HR4qExzVU"
      },
      "source": [
        ""
      ]
    },
    {
      "cell_type": "code",
      "metadata": {
        "id": "lG2ockFCV1NX"
      },
      "source": [
        "def check_stop_punct(token):\n",
        "    if token.is_stop or token.is_punct:\n",
        "        return False\n",
        "    else:\n",
        "        return True\n",
        "\n",
        "def clean_doc_lem_stop(document):\n",
        "    no_stop_li = list(filter(check_stop_punct, document))\n",
        "    lemma_li = list(map(lambda x: x.lemma_, no_stop_li))\n",
        "    spaces=[True for word in lemma_li]\n",
        "    doc=Doc(nlp.vocab, words=lemma_li, spaces=spaces)\n",
        "    return doc\n"
      ],
      "execution_count": 20,
      "outputs": []
    },
    {
      "cell_type": "code",
      "metadata": {
        "id": "vI6ZffndYM0S",
        "outputId": "c3c0cece-1b72-4e8b-d344-d10d31b7751c",
        "colab": {
          "base_uri": "https://localhost:8080/"
        }
      },
      "source": [
        "nlp.add_pipe(clean_doc_lem_stop, first=True)\n",
        "nlp.pipe_names"
      ],
      "execution_count": 73,
      "outputs": [
        {
          "output_type": "execute_result",
          "data": {
            "text/plain": [
              "['clean_doc_lem_stop', 'tagger', 'parser', 'ner']"
            ]
          },
          "metadata": {
            "tags": []
          },
          "execution_count": 73
        }
      ]
    },
    {
      "cell_type": "code",
      "metadata": {
        "id": "x_FNQ3uylaFO",
        "outputId": "83d82850-a156-4333-c472-a3009ed8e5cc",
        "colab": {
          "base_uri": "https://localhost:8080/"
        }
      },
      "source": [
        "nlp.remove_pipe('clean_doc_lem_stop')"
      ],
      "execution_count": 72,
      "outputs": [
        {
          "output_type": "execute_result",
          "data": {
            "text/plain": [
              "('clean_doc_lem_stop', <function __main__.clean_doc_lem_stop>)"
            ]
          },
          "metadata": {
            "tags": []
          },
          "execution_count": 72
        }
      ]
    },
    {
      "cell_type": "code",
      "metadata": {
        "id": "k2VXIfuE8Tan"
      },
      "source": [
        "mini_df=new_df.sample(frac=0.2)"
      ],
      "execution_count": 22,
      "outputs": []
    },
    {
      "cell_type": "code",
      "metadata": {
        "id": "dCisNGBS8WHv",
        "outputId": "79b4d8d2-6bb8-4b25-c87b-f9d0d05385d5",
        "colab": {
          "base_uri": "https://localhost:8080/"
        }
      },
      "source": [
        "mini_df.head"
      ],
      "execution_count": 122,
      "outputs": [
        {
          "output_type": "execute_result",
          "data": {
            "text/plain": [
              "<bound method NDFrame.head of        index                                        story_title                                         story_text  book_id                         book_author                                         book_title                                         clean_text  word_count  flag_acknow\n",
              "19880  20557                              Xiv. The Magic Packet  |A POOR man, called Iena, or the Wanderer, was...    48469             Schoolcraft, Henry Rowe   The Indian Fairy Book\\nFrom the Original Legends  |A POOR man, called Iena, or the Wanderer, was...         677        False\n",
              "2565    2633                           The Value Of A Good Name  Samuel Appleton, a distinguished Boston mercha...    29357                         frozenset()                 Our Young Folks at Home and Abroad  Samuel Appleton, a distinguished Boston mercha...         186        False\n",
              "17396  17911          Mus'Ab Bin Al-Zubayr And Ayishah His Wife  It is told of Mus'ab bin that he met in Al- Me...     3439                         frozenset()  The Book of the Thousand Nights and a Night — ...  It is told of Mus'ab bin that he met in Al- Me...         521        False\n",
              "10922  11204          The German-English Business Letter Writer  A practical aid. Carefully prepared by compete...    45768                           Anonymous              Mr. Sweet Potatoes, and Other Stories  A practical aid. Carefully prepared by compete...          74        False\n",
              "7008    7179  To The Beautiful Lady In The Hairdresser'S Window  I love you, oh! I love you,    And I beg you t...    26478       Farrow, G. E. (George Edward)                             The Wallypug in London  I love you, oh! I love you,    And I beg you t...         400        False\n",
              "...      ...                                                ...                                                ...      ...                                 ...                                                ...                                                ...         ...          ...\n",
              "2417    2485                           The Little Cousin Series  The most delightful and interesting accounts p...    39593  Johnston, Annie F. (Annie Fellows)               Aunt 'Liza's Hero, and Other Stories  The most delightful and interesting accounts p...         284        False\n",
              "14452  14865                      Xiv.--The Lion Grown Old.[21]  A lion, mourning, in his age, the wane  Of mig...     7241                La Fontaine, Jean de  Fables of La Fontaine — a New Edition, with Notes  A lion, mourning, in his age, the wane  Of mig...         157        False\n",
              "16851  17350                           The Masked Lady'S Secret  Toward morning Everychild had a dream. In his ...    17521                        Dodge, Louis  Everychild\\r\\nA Story Which The Old May Interp...  Toward morning Everychild had a dream. In his ...        1176        False\n",
              "20830  21526                                 Curious Manuscript  A very curious manuscript was presented to the...    45849                         frozenset()  Ten Thousand Wonderful Things\\r\\nComprising wh...  A very curious manuscript was presented to the...         300        False\n",
              "9380    9636    Part Ii. Loki--The Iron Wood--A Boundless Waste  The cats champed their bright bits, and skimme...    41283    ('Keary, Eliza', 'Keary, Annie')  The Heroes of Asgard: Tales from Scandinavian ...  The cats champed their bright bits, and skimme...        1293        False\n",
              "\n",
              "[5598 rows x 9 columns]>"
            ]
          },
          "metadata": {
            "tags": []
          },
          "execution_count": 122
        }
      ]
    },
    {
      "cell_type": "code",
      "metadata": {
        "id": "9oYiBMJZ9YsQ"
      },
      "source": [
        "mini_df = mini_df[['story_title', 'story_text', 'book_id', 'book_author', 'book_title', 'clean_text', 'word_count']]"
      ],
      "execution_count": 23,
      "outputs": []
    },
    {
      "cell_type": "code",
      "metadata": {
        "id": "65nlVVnWYBgj"
      },
      "source": [
        "mini_df['docs']=gpu_nlp_pipe(mini_df.clean_text)"
      ],
      "execution_count": 74,
      "outputs": []
    },
    {
      "cell_type": "code",
      "metadata": {
        "id": "jyYOzsJxb3OJ"
      },
      "source": [
        "docs=mini_df.docs.array"
      ],
      "execution_count": 75,
      "outputs": []
    },
    {
      "cell_type": "code",
      "metadata": {
        "id": "x_wZuKk02nGy",
        "outputId": "04808f80-a19f-4355-b6ef-309d5c20f92a",
        "colab": {
          "base_uri": "https://localhost:8080/",
          "height": 510
        }
      },
      "source": [
        "mini_df.head()"
      ],
      "execution_count": 25,
      "outputs": [
        {
          "output_type": "execute_result",
          "data": {
            "text/html": [
              "<div>\n",
              "<style scoped>\n",
              "    .dataframe tbody tr th:only-of-type {\n",
              "        vertical-align: middle;\n",
              "    }\n",
              "\n",
              "    .dataframe tbody tr th {\n",
              "        vertical-align: top;\n",
              "    }\n",
              "\n",
              "    .dataframe thead th {\n",
              "        text-align: right;\n",
              "    }\n",
              "</style>\n",
              "<table border=\"1\" class=\"dataframe\">\n",
              "  <thead>\n",
              "    <tr style=\"text-align: right;\">\n",
              "      <th></th>\n",
              "      <th>story_title</th>\n",
              "      <th>story_text</th>\n",
              "      <th>book_id</th>\n",
              "      <th>book_author</th>\n",
              "      <th>book_title</th>\n",
              "      <th>clean_text</th>\n",
              "      <th>word_count</th>\n",
              "      <th>docs</th>\n",
              "    </tr>\n",
              "  </thead>\n",
              "  <tbody>\n",
              "    <tr>\n",
              "      <th>9424</th>\n",
              "      <td>_Published January, 1911_</td>\n",
              "      <td>THE QUINN &amp; BODEN CO. PRESS           RAHWAY, ...</td>\n",
              "      <td>41765</td>\n",
              "      <td>frozenset()</td>\n",
              "      <td>Half a Hundred Hero Tales of Ulysses and The M...</td>\n",
              "      <td>THE QUINN &amp; BODEN CO. PRESS           RAHWAY, ...</td>\n",
              "      <td>446</td>\n",
              "      <td>(QUINN, BODEN, CO, press,           , RAHWAY, ...</td>\n",
              "    </tr>\n",
              "    <tr>\n",
              "      <th>9190</th>\n",
              "      <td>Bellerophon</td>\n",
              "      <td>Bellerophon, grandson of Sisyphus, received fr...</td>\n",
              "      <td>59956</td>\n",
              "      <td>('Schmidt, Ferdinand', 'Becker, Karl Friedrich')</td>\n",
              "      <td>Gods and Heroes</td>\n",
              "      <td>Bellerophon, grandson of Sisyphus, received fr...</td>\n",
              "      <td>760</td>\n",
              "      <td>(Bellerophon, grandson, Sisyphus, receive, god...</td>\n",
              "    </tr>\n",
              "    <tr>\n",
              "      <th>15339</th>\n",
              "      <td>Cupid'S Garden</td>\n",
              "      <td>O chaste and sweet are the flowers that blow  ...</td>\n",
              "      <td>37111</td>\n",
              "      <td>Fitz-Gerald, S. J. Adair (Shafto Justin Adair)</td>\n",
              "      <td>The Zankiwank and The Bletherwitch: An Origina...</td>\n",
              "      <td>O chaste and sweet are the flowers that blow  ...</td>\n",
              "      <td>1116</td>\n",
              "      <td>(o, chaste, sweet, flower, blow,   , Cupid, Ga...</td>\n",
              "    </tr>\n",
              "    <tr>\n",
              "      <th>2615</th>\n",
              "      <td>More Presents</td>\n",
              "      <td>\"With so many birthdays in one family, we must...</td>\n",
              "      <td>4784</td>\n",
              "      <td>Lawrence, Josephine</td>\n",
              "      <td>Brother and Sister</td>\n",
              "      <td>\"With so many birthdays in one family, we must...</td>\n",
              "      <td>1066</td>\n",
              "      <td>(birthday, family, elaborate, expensive, prese...</td>\n",
              "    </tr>\n",
              "    <tr>\n",
              "      <th>5494</th>\n",
              "      <td>The Man In The Moon</td>\n",
              "      <td>Said the Raggedy Man on a hot afternoon,    \"M...</td>\n",
              "      <td>19993</td>\n",
              "      <td>frozenset()</td>\n",
              "      <td>Childhood's Favorites and Fairy Stories\\nThe Y...</td>\n",
              "      <td>Said the Raggedy Man on a hot afternoon,    \"M...</td>\n",
              "      <td>529</td>\n",
              "      <td>(say, Raggedy, Man, hot, afternoon,    ,      ...</td>\n",
              "    </tr>\n",
              "  </tbody>\n",
              "</table>\n",
              "</div>"
            ],
            "text/plain": [
              "                     story_title                                         story_text  book_id                                       book_author                                         book_title                                         clean_text  word_count                                               docs\n",
              "9424   _Published January, 1911_  THE QUINN & BODEN CO. PRESS           RAHWAY, ...    41765                                       frozenset()  Half a Hundred Hero Tales of Ulysses and The M...  THE QUINN & BODEN CO. PRESS           RAHWAY, ...         446  (QUINN, BODEN, CO, press,           , RAHWAY, ...\n",
              "9190                 Bellerophon  Bellerophon, grandson of Sisyphus, received fr...    59956  ('Schmidt, Ferdinand', 'Becker, Karl Friedrich')                                    Gods and Heroes  Bellerophon, grandson of Sisyphus, received fr...         760  (Bellerophon, grandson, Sisyphus, receive, god...\n",
              "15339             Cupid'S Garden  O chaste and sweet are the flowers that blow  ...    37111    Fitz-Gerald, S. J. Adair (Shafto Justin Adair)  The Zankiwank and The Bletherwitch: An Origina...  O chaste and sweet are the flowers that blow  ...        1116  (o, chaste, sweet, flower, blow,   , Cupid, Ga...\n",
              "2615               More Presents  \"With so many birthdays in one family, we must...     4784                               Lawrence, Josephine                                 Brother and Sister  \"With so many birthdays in one family, we must...        1066  (birthday, family, elaborate, expensive, prese...\n",
              "5494         The Man In The Moon  Said the Raggedy Man on a hot afternoon,    \"M...    19993                                       frozenset()  Childhood's Favorites and Fairy Stories\\nThe Y...  Said the Raggedy Man on a hot afternoon,    \"M...         529  (say, Raggedy, Man, hot, afternoon,    ,      ..."
            ]
          },
          "metadata": {
            "tags": []
          },
          "execution_count": 25
        }
      ]
    },
    {
      "cell_type": "code",
      "metadata": {
        "id": "4zCZM1e6UKMk"
      },
      "source": [
        "new_df.story_title.value_counts(ascending=False)[:20]"
      ],
      "execution_count": null,
      "outputs": []
    },
    {
      "cell_type": "code",
      "metadata": {
        "id": "4l0lrJQPVusA",
        "outputId": "293a9406-eb4d-4e32-e270-fe53d1f0d6f6",
        "colab": {
          "base_uri": "https://localhost:8080/"
        }
      },
      "source": [
        "\n",
        "\n",
        "mini_df.loc[18128, 'docs']"
      ],
      "execution_count": 95,
      "outputs": [
        {
          "output_type": "execute_result",
          "data": {
            "text/plain": [
              "New Zealand   time live man name Kahukura even way distant village come lonely spot seashore walk slowly see large pile head tail fish lie beach day man net oblige catch fish spear hook Kahukura see pile astonish luck exclaim hard catch fish head tail thousand look closely footprint sand mortal fish cry Fairies watch night darkness come return spot hide rock wait long time see fleet tiny canoe come spin wave range line distance shore Kahukura little figure bend pull hear small voice shout net net little figure drop overboard begin haul shore singe sweetly canoe draw near land Kahukura see crowd Fairies spring beach begin drag ashore great net fill fish Fairies struggle net Kahukura join haul away rope fair man skin white Fairies notice pull away pull away soon net land Fairies run forward divide catch peep dawn hurry fish carry Fairy string share run twig gill string fish keep call another:-- Hurry hurry finish sun rise Kahukura short string knot end string share fill lift string knot give way fish slide grind Fairies run forward help tie knot fill string fish slide Fairies tie knot day begin break sea sun rise Fairies see Kahukura face know man give little cry terror run way confusion leave fish canoe abandon net shriek vanish sea Kahukura see haste examine canoe stem flax lift net weave rush curiously tie carry home like neighbour teach child weave net Maori folk learn net day catch fish "
            ]
          },
          "metadata": {
            "tags": []
          },
          "execution_count": 95
        }
      ]
    },
    {
      "cell_type": "markdown",
      "metadata": {
        "id": "3C3UboatFvxX"
      },
      "source": [
        ""
      ]
    },
    {
      "cell_type": "code",
      "metadata": {
        "id": "fPLhkn3HFwLE"
      },
      "source": [
        "# all tokens that arent stop words or punctuations\n",
        "word_list = [token for doc in mini_df.docs for token in doc if token.is_stop != True and token.is_punct != True]\n",
        "\n",
        "# noun tokens that arent stop words or punctuations\n",
        "noun_list = [token for doc in mini_df.docs for token in doc if token.pos_ == \"NOUN\"]\n",
        "\n",
        "verb_list= [token for doc in mini_df.docs for token in doc if token.pos_ == \"VERB\"]\n"
      ],
      "execution_count": 96,
      "outputs": []
    },
    {
      "cell_type": "code",
      "metadata": {
        "id": "Gc8h0-DNVvLU",
        "outputId": "f51651bb-6799-4206-87a4-7d497d9e50a6",
        "colab": {
          "base_uri": "https://localhost:8080/"
        }
      },
      "source": [
        "c = Counter(word_list )\n",
        "bar_data=word_freq.most_common(100)\n",
        "del c['          ']\n",
        "del c[' ']\n",
        "bar_data"
      ],
      "execution_count": 90,
      "outputs": [
        {
          "output_type": "execute_result",
          "data": {
            "text/plain": [
              "[(QUINN, 1),\n",
              " (BODEN, 1),\n",
              " (CO, 1),\n",
              " (PRESS, 1),\n",
              " (          , 1),\n",
              " (RAHWAY, 1),\n",
              " (N., 1),\n",
              " (J., 1),\n",
              " (  , 1),\n",
              " (PREFACE, 1),\n",
              " ( , 1),\n",
              " (apology, 1),\n",
              " (offer, 1),\n",
              " (add, 1),\n",
              " (book, 1),\n",
              " (Classical, 1),\n",
              " (Stories, 1),\n",
              " (endless, 1),\n",
              " (exist, 1),\n",
              " (version, 1),\n",
              " (ancient, 1),\n",
              " (modern, 1),\n",
              " (verse, 1),\n",
              " (prose, 1),\n",
              " (plea, 1),\n",
              " (Vivien, 1),\n",
              " (offer, 1),\n",
              " (Merlin, 1),\n",
              " (tender, 1),\n",
              " (rhyme, 1),\n",
              " (  , 1),\n",
              " (live, 1),\n",
              " (dispersedly, 1),\n",
              " (hand, 1),\n",
              " (  , 1),\n",
              " (minstrel, 1),\n",
              " (sing, 1),\n",
              " (differently, 1),\n",
              " (Greek, 1),\n",
              " (Egyptian, 1),\n",
              " (priest, 1),\n",
              " (Herodotus, 1),\n",
              " (child, 1),\n",
              " (Greece, 1),\n",
              " (lose, 1),\n",
              " (secret, 1),\n",
              " (eternal, 1),\n",
              " (youth, 1),\n",
              " (tale, 1),\n",
              " (Troy, 1),\n",
              " (divine, 1),\n",
              " (Thebes, 1),\n",
              " (Pelops, 1),\n",
              " (line, 1),\n",
              " (song, 1),\n",
              " (sweet, 1),\n",
              " (Colonus, 1),\n",
              " (cruel, 1),\n",
              " (death, 1),\n",
              " (Pyramus, 1),\n",
              " (Thisby, 1),\n",
              " (Dido, 1),\n",
              " (willow, 1),\n",
              " (hand, 1),\n",
              " (old, 1),\n",
              " (story, 1),\n",
              " (Homer, 1),\n",
              " (Sophocles, 1),\n",
              " (Virgil, 1),\n",
              " (Ovid, 1),\n",
              " (lose, 1),\n",
              " (gloss, 1),\n",
              " (freshness, 1),\n",
              " (innocent, 1),\n",
              " (brightness, 1),\n",
              " (new, 1),\n",
              " (bear, 1),\n",
              " (day, 1),\n",
              " (lovely, 1),\n",
              " (sing, 1),\n",
              " (Wace, 1),\n",
              " (Caxton, 1),\n",
              " (Chaucer, 1),\n",
              " (Wordsworth, 1),\n",
              " (Keats, 1),\n",
              " (William, 1),\n",
              " (Morris, 1),\n",
              " (adapt, 1),\n",
              " (young, 1),\n",
              " (reader, 1),\n",
              " (Fénelon, 1),\n",
              " (Niebuhr, 1),\n",
              " (Kingsley, 1),\n",
              " (Hawthorne, 1),\n",
              " (word, 1),\n",
              " (new, 1),\n",
              " (editor, 1),\n",
              " (selection, 1),\n",
              " (choose, 1),\n",
              " (new, 1)]"
            ]
          },
          "metadata": {
            "tags": []
          },
          "execution_count": 90
        }
      ]
    },
    {
      "cell_type": "code",
      "metadata": {
        "id": "GevMrhRBkToM"
      },
      "source": [
        "index= [word for word, value in bar_data]\n",
        "values= [value for word, value in bar_data]"
      ],
      "execution_count": 79,
      "outputs": []
    },
    {
      "cell_type": "code",
      "metadata": {
        "id": "DPDntat5h4LE",
        "outputId": "e676a326-4df1-4811-ea36-4a6678a5292b",
        "colab": {
          "base_uri": "https://localhost:8080/",
          "height": 371
        }
      },
      "source": [
        "index= [word for word, value in bar_data]\n",
        "values= [value for word, value in bar_data]\n",
        "\n",
        "plt.figure(figsize=(12,4))\n",
        "sns.barplot(index, values, alpha=0.8)\n",
        "plt.ylabel('Number of Occurrences', fontsize=12)\n",
        "plt.xlabel('Words', fontsize=12)\n",
        "plt.xticks(rotation=90)\n",
        "plt.show();\n",
        "plt.savefig('freq_words.png')"
      ],
      "execution_count": 70,
      "outputs": [
        {
          "output_type": "stream",
          "text": [
            "/usr/local/lib/python3.6/dist-packages/seaborn/_decorators.py:43: FutureWarning: Pass the following variables as keyword args: x, y. From version 0.12, the only valid positional argument will be `data`, and passing other arguments without an explicit keyword will result in an error or misinterpretation.\n",
            "  FutureWarning\n"
          ],
          "name": "stderr"
        },
        {
          "output_type": "display_data",
          "data": {
            "image/png": "[encoded data removed]",
            "text/plain": [
              "<Figure size 864x288 with 1 Axes>"
            ]
          },
          "metadata": {
            "tags": [],
            "needs_background": "light"
          }
        },
        {
          "output_type": "display_data",
          "data": {
            "text/plain": [
              "<Figure size 432x288 with 0 Axes>"
            ]
          },
          "metadata": {
            "tags": []
          }
        }
      ]
    },
    {
      "cell_type": "code",
      "metadata": {
        "id": "LEDG3ZUprG8G"
      },
      "source": [
        "noun_text=[token.lower_ for token in noun_list]"
      ],
      "execution_count": 102,
      "outputs": []
    },
    {
      "cell_type": "code",
      "metadata": {
        "id": "MgjQB3YFKrNS"
      },
      "source": [
        "noun_freq = Counter(noun_text)\n",
        "bar_data= noun_freq.most_common(20)"
      ],
      "execution_count": 106,
      "outputs": []
    },
    {
      "cell_type": "code",
      "metadata": {
        "id": "WpkzsrS6rjHt",
        "outputId": "ae46a45f-cd81-4b1a-a7a9-39fc46d0425e",
        "colab": {
          "base_uri": "https://localhost:8080/",
          "height": 380
        }
      },
      "source": [
        "index= [word for word, value in bar_data]\n",
        "values= [value for word, value in bar_data]\n",
        "\n",
        "plt.figure(figsize=(12,4))\n",
        "sns.barplot(index, values, alpha=0.8)\n",
        "plt.ylabel('Number of Occurrences', fontsize=12)\n",
        "plt.xlabel('Nouns', fontsize=12)\n",
        "plt.xticks(rotation=90)\n",
        "plt.show();\n",
        "plt.savefig('freq_nouns.png')"
      ],
      "execution_count": 108,
      "outputs": [
        {
          "output_type": "stream",
          "text": [
            "/usr/local/lib/python3.6/dist-packages/seaborn/_decorators.py:43: FutureWarning: Pass the following variables as keyword args: x, y. From version 0.12, the only valid positional argument will be `data`, and passing other arguments without an explicit keyword will result in an error or misinterpretation.\n",
            "  FutureWarning\n"
          ],
          "name": "stderr"
        },
        {
          "output_type": "display_data",
          "data": {
            "image/png": "[encoded data removed]",
            "text/plain": [
              "<Figure size 864x288 with 1 Axes>"
            ]
          },
          "metadata": {
            "tags": [],
            "needs_background": "light"
          }
        },
        {
          "output_type": "display_data",
          "data": {
            "text/plain": [
              "<Figure size 432x288 with 0 Axes>"
            ]
          },
          "metadata": {
            "tags": []
          }
        }
      ]
    },
    {
      "cell_type": "code",
      "metadata": {
        "id": "rBPw3B02KuJ8"
      },
      "source": [
        "verb_text=[token.lower_ for token in verb_list]\n",
        "verb_freq = Counter(verb_text)\n",
        "bar_data = verb_freq.most_common(20)"
      ],
      "execution_count": 110,
      "outputs": []
    },
    {
      "cell_type": "code",
      "metadata": {
        "id": "Sb5bB0-bsyWs",
        "outputId": "cb8c86d0-b3e0-4a2e-9e86-03658cd65a41",
        "colab": {
          "base_uri": "https://localhost:8080/",
          "height": 371
        }
      },
      "source": [
        "index= [word for word, value in bar_data]\n",
        "values= [value for word, value in bar_data]\n",
        "\n",
        "plt.figure(figsize=(12,4))\n",
        "sns.barplot(index, values, alpha=0.8)\n",
        "plt.ylabel('Number of Occurrences', fontsize=12)\n",
        "plt.xlabel('Verbs', fontsize=12)\n",
        "plt.xticks(rotation=90)\n",
        "plt.show();\n",
        "plt.savefig('freq_verbs.png')"
      ],
      "execution_count": 111,
      "outputs": [
        {
          "output_type": "stream",
          "text": [
            "/usr/local/lib/python3.6/dist-packages/seaborn/_decorators.py:43: FutureWarning: Pass the following variables as keyword args: x, y. From version 0.12, the only valid positional argument will be `data`, and passing other arguments without an explicit keyword will result in an error or misinterpretation.\n",
            "  FutureWarning\n"
          ],
          "name": "stderr"
        },
        {
          "output_type": "display_data",
          "data": {
            "image/png": "[encoded data removed]",
            "text/plain": [
              "<Figure size 864x288 with 1 Axes>"
            ]
          },
          "metadata": {
            "tags": [],
            "needs_background": "light"
          }
        },
        {
          "output_type": "display_data",
          "data": {
            "text/plain": [
              "<Figure size 432x288 with 0 Axes>"
            ]
          },
          "metadata": {
            "tags": []
          }
        }
      ]
    },
    {
      "cell_type": "markdown",
      "metadata": {
        "id": "HAHTt-k0TXBt"
      },
      "source": [
        "# LDA Topic Modeling"
      ]
    },
    {
      "cell_type": "code",
      "metadata": {
        "id": "7U5i0cmvVvlt"
      },
      "source": [
        "import gensim \n",
        "from gensim import corpora \n",
        "from gensim.models import LdaModel, LdaMulticore \n",
        "import gensim.downloader as api \n",
        "from gensim.utils import simple_preprocess, lemmatize \n",
        "import textacy.vsm \n",
        "import textacy.tm"
      ],
      "execution_count": 112,
      "outputs": []
    },
    {
      "cell_type": "markdown",
      "metadata": {
        "id": "sRlas9hrTV3P"
      },
      "source": [
        ""
      ]
    },
    {
      "cell_type": "markdown",
      "metadata": {
        "id": "3ZBU17SDdWnq"
      },
      "source": [
        ""
      ]
    },
    {
      "cell_type": "code",
      "metadata": {
        "id": "B1xzJtCuVva9"
      },
      "source": [
        "\n",
        "vectorizer = textacy.vsm.Vectorizer(tf_type=\"linear\", apply_idf=True, idf_type=\"smooth\", norm=\"l2\",min_df=2, max_df=0.95)\n",
        "doc_term_matrix = vectorizer.fit_transform((doc._.to_terms_list(ngrams=1, entities=True, as_strings=True) for doc in mini_df.docs))"
      ],
      "execution_count": 113,
      "outputs": []
    },
    {
      "cell_type": "code",
      "metadata": {
        "id": "IEOX_A27Vu_Z",
        "outputId": "fa87832c-edfe-43b7-d294-ec78ecf74d3f",
        "colab": {
          "base_uri": "https://localhost:8080/"
        }
      },
      "source": [
        "model = textacy.tm.TopicModel(\"nmf\", n_topics=25)\n",
        "model.fit(doc_term_matrix)\n",
        "doc_topic_matrix = model.transform(doc_term_matrix)\n",
        "\n",
        "for topic_idx, top_terms in model.top_topic_terms(vectorizer.id_to_term, top_n=25):\n",
        "  print(\"topic\", topic_idx, \":\", \"   \".join(top_terms))"
      ],
      "execution_count": 114,
      "outputs": [
        {
          "output_type": "stream",
          "text": [
            "topic 0 : come   man   time   know   day   think   old   look   find   like   great   long   tell   hand   hear   night   way   good   leave   house   young   place   stand   head   away\n",
            "topic 1 : thou   thy   o   Allah   hath   King   Quoth   hast   ✿   quoth   God   till   unto   man   art   merchant   thine   Wazir   answer   Sultan   shall   wilt   lord   slay   come\n",
            "topic 2 : book   story   read   child   tale   volume   edition   write   p.   page   interest   author   literature   fairy   picture   Tales   illustration   vol   work   study   Story   version   history   pp   print\n",
            "topic 3 : little   child   mother   girl   baby   dear   look   old   think   oh   mamma   Mrs.   come   good   Mary   like   pretty   play   love   flower   poor   sister   Miss   doll   know\n",
            "topic 4 : king   princess   prince   queen   palace   daughter   vizier   son   fairy   kingdom   youth   castle   shall   court   come   royal   send   golden   father   majesty   brother   wife   bid   dragon   Abou\n",
            "topic 5 : horse   Hugh   ride   Ivan   mare   saddle   shoe   wolf   road   Tsarevich   mount   emperor   man   rider   stable   bridle   field   old   gallop   animal   Tsar   apple   colt   camp   Horse\n",
            "topic 6 : King   Prince   Princess   Queen   Giglio   Fairy   fairy   palace   daughter   Bulbo   castle   marry   Majesty   kingdom   Angelica   royal   son   beautiful   Betsinda   sleep   Court   ring   Padella   ask   Rosalba\n",
            "topic 7 : $   Illustrated   Cloth   16mo   1.50   6d   8vo   12mo   cloth   cent   1.25   volume   illustration   colour   4to   3s   gild   price   author   2s   3s 6d   edge   illustrate   Edition   Stories\n",
            "topic 8 : Jack   Hugh   giant   castle   Giant   Mopsa   Joe   cow   camp   pocket   coat   Gobborn   boat   quoth   bee   Bertie   head   lord   Goose   Puss   kill   pack   knife   rope   start\n",
            "topic 9 : Lion   Fox   Wolf   Ass   Mouse   Stag   Man   Cock   den   Reynard   FOX   come   tail   beast   ass   divide   Cat   fox   lion   Eagle   Horse   LION   animal   spring   Hare\n",
            "topic 10 : boy   school   father   teacher   soldier   son   little   Samuel   good   Dick   fun   learn   play   John   read   Phil   girl   mother   think   lad   kite   lesson   Ned   Wiggily   tell\n",
            "topic 11 : Tom   Thumb   Tom Thumb   pudding   Arthur   mouse   King   Ted   fox   miller   Chrysomela   ogre   tinker   thumb   poor   ploughman   batter   court   Merlin   catch   cow   spider   thistle   mother   Godmother\n",
            "topic 12 : ship   sea   island   sail   boat   captain   sailor   merchant   shore   land   voyage   vessel   board   Captain   water   Sindbad   wave   deck   mast   crow   roc   embark   bale   great   rock\n",
            "topic 13 : dog   Dog   monkey   master   shepherd   bark   kennel   James   sheep   eat   dinner   Wolf   pepper   fox   robber   bite   hen   friend   animal   come   cur   tiger   terrier   elephant   run\n",
            "topic 14 : =   tr   cloth   story   Footnote   text   page   ST   Illustrations   extra   etc   8vo   Crown   Crown 8vo   c.   Arab   i.e.   introduction   arab   illustration   New   price   al   hu   Tale\n",
            "topic 15 : Bobby   Bayard   dollar   book   Lee   Squire   Squire Lee   Mr.   sir   Annie   pay   Bright   hero   squire   Riverdale   Wayfarer   sell   Spicer   Timmins   Ellen   mother   Sam   ram   Boston   Hardhand\n",
            "topic 16 : bird   tree   nest   fly   sing   branch   flower   wing   song   sparrow   green   little   egg   apple   leave   wood   feather   beautiful   Tree   forest   robin   away   winter   wind   snow\n",
            "topic 17 : knight   Sir   Arthur   Undine   sword   Artegall   Huldbrand   Knight   lady   Sancho   dragon   Galahad   squire   shield   Quixote   Kay   Bertalda   Don   Calidore   castle   ride   Ector   giant   Britomart   fair\n",
            "topic 18 : cat   mouse   Puss   Marquis   Carabas   Cat   Marquis Carabas   rat   kitten   bag   Ruth   puss   miller   lion   eat   ogre   tail   master   paw   rabbit   run   boot   Pussy   jump   donkey\n",
            "topic 19 : Mr.   Mrs.   Hazel   Rabbit   Frog   Rollo   sir   Ernest   Crow   Peter   Miss   Vinegar   John   Kiddie   know   Grandfather   gentleman   think   Old   Wych   Meadows   want   Thimblefinger   Ewart   Grandfather Frog\n",
            "topic 20 : de   et   la   le   dit   à   vous   les   que   Le   il   dans   un   dat   des   qui   du   une   je   en   est   femme   elle   Madame   loup\n",
            "topic 21 : Bear   Wee   porridge   Middle Bear   Huge   little small Wee Bear   Middle   little   Small   small   bear   voice   chair   wee   middle   great huge Bear   pot   Little   spoon   bed   Great   Bears   woman   somebody   size\n",
            "topic 22 : Robin   Hood   Robin Hood   skate   Redbreast   John   Cock Robin   yeoman   Nottingham   Little   Cock   Dale   sheriff   greenwood   abbot   mourner   feather   bride   Little John   Rook   bow   Mrs.   Scarlet   outlaw   knight\n",
            "topic 23 : |   |    |   chapter   Histoire   Charlotte   du   +   verse   historic   101   Illustrations   Psalm   3   8   tradition   Cyril   history   letter   Coloured   culture   Plates   Wafír   Mufá'alatun   Hazaj   Abú\n",
            "topic 24 : Neddie   Beckie   bear   Stubtail   Whitewash   Neddie Beckie   Piffy   oh   Kat   Wigwag   doll   Tommie   Beckie Neddie   Uncle Wigwag   paw   Aunt   Uncle   alligator   papa   cave   birdie   cake   gentleman   Professor   cry\n"
          ],
          "name": "stdout"
        }
      ]
    },
    {
      "cell_type": "code",
      "metadata": {
        "id": "cFBdFDoUVue0",
        "outputId": "bb0eb7c0-b8ef-4d26-f2d0-3d33aa49d1a5",
        "colab": {
          "base_uri": "https://localhost:8080/"
        }
      },
      "source": [
        "doc_topic_matrix"
      ],
      "execution_count": 62,
      "outputs": [
        {
          "output_type": "execute_result",
          "data": {
            "text/plain": [
              "array([[0.01075951, 0.        , 0.        , ..., 0.        , 0.        ,\n",
              "        0.        ],\n",
              "       [0.02936499, 0.01456444, 0.        , ..., 0.        , 0.        ,\n",
              "        0.        ],\n",
              "       [0.04450397, 0.        , 0.00776316, ..., 0.        , 0.        ,\n",
              "        0.        ],\n",
              "       ...,\n",
              "       [0.06645444, 0.        , 0.02483855, ..., 0.        , 0.        ,\n",
              "        0.        ],\n",
              "       [0.00317817, 0.        , 0.        , ..., 0.        , 0.        ,\n",
              "        0.        ],\n",
              "       [0.00545456, 0.        , 0.        , ..., 0.        , 0.        ,\n",
              "        0.        ]])"
            ]
          },
          "metadata": {
            "tags": []
          },
          "execution_count": 62
        }
      ]
    },
    {
      "cell_type": "code",
      "metadata": {
        "id": "HxqZCG58_x2d"
      },
      "source": [
        ""
      ],
      "execution_count": null,
      "outputs": []
    },
    {
      "cell_type": "code",
      "metadata": {
        "id": "kcu5w69SAG_Y"
      },
      "source": [
        ""
      ],
      "execution_count": null,
      "outputs": []
    }
  ]
}